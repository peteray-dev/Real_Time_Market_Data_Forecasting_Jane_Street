{
  "metadata": {
    "kernelspec": {
      "language": "python",
      "display_name": "Python 3",
      "name": "python3"
    },
    "language_info": {
      "name": "python",
      "version": "3.10.14",
      "mimetype": "text/x-python",
      "codemirror_mode": {
        "name": "ipython",
        "version": 3
      },
      "pygments_lexer": "ipython3",
      "nbconvert_exporter": "python",
      "file_extension": ".py"
    },
    "kaggle": {
      "accelerator": "nvidiaTeslaT4",
      "dataSources": [
        {
          "sourceId": 84493,
          "databundleVersionId": 9871156,
          "sourceType": "competition"
        }
      ],
      "dockerImageVersionId": 30786,
      "isInternetEnabled": true,
      "language": "python",
      "sourceType": "notebook",
      "isGpuEnabled": true
    },
    "colab": {
      "name": "Real time forecasting jane street",
      "provenance": [],
      "include_colab_link": true
    }
  },
  "nbformat_minor": 0,
  "nbformat": 4,
  "cells": [
    {
      "cell_type": "markdown",
      "metadata": {
        "id": "view-in-github",
        "colab_type": "text"
      },
      "source": [
        "<a href=\"https://colab.research.google.com/github/peteray-dev/Real_Time_Market_Data_Forecasting_Jane_Street/blob/master/Real_time_forecasting_jane_street.ipynb\" target=\"_parent\"><img src=\"https://colab.research.google.com/assets/colab-badge.svg\" alt=\"Open In Colab\"/></a>"
      ]
    },
    {
      "source": [
        "# IMPORTANT: SOME KAGGLE DATA SOURCES ARE PRIVATE\n",
        "# RUN THIS CELL IN ORDER TO IMPORT YOUR KAGGLE DATA SOURCES.\n",
        "import kagglehub\n",
        "kagglehub.login()\n"
      ],
      "metadata": {
        "id": "Sq3r5ow7UqX1"
      },
      "cell_type": "code",
      "outputs": [],
      "execution_count": null
    },
    {
      "source": [
        "# IMPORTANT: RUN THIS CELL IN ORDER TO IMPORT YOUR KAGGLE DATA SOURCES,\n",
        "# THEN FEEL FREE TO DELETE THIS CELL.\n",
        "# NOTE: THIS NOTEBOOK ENVIRONMENT DIFFERS FROM KAGGLE'S PYTHON\n",
        "# ENVIRONMENT SO THERE MAY BE MISSING LIBRARIES USED BY YOUR\n",
        "# NOTEBOOK.\n",
        "\n",
        "jane_street_real_time_market_data_forecasting_path = kagglehub.competition_download('jane-street-real-time-market-data-forecasting')\n",
        "\n",
        "print('Data source import complete.')\n"
      ],
      "metadata": {
        "id": "aeoywdJuUqX3"
      },
      "cell_type": "code",
      "outputs": [],
      "execution_count": null
    },
    {
      "cell_type": "markdown",
      "source": [
        "## REAL TIME FORECASTING (JANE STREET)"
      ],
      "metadata": {
        "execution": {
          "iopub.status.busy": "2024-11-22T14:01:22.846646Z",
          "iopub.execute_input": "2024-11-22T14:01:22.847061Z",
          "iopub.status.idle": "2024-11-22T14:01:22.851956Z",
          "shell.execute_reply.started": "2024-11-22T14:01:22.847017Z",
          "shell.execute_reply": "2024-11-22T14:01:22.850909Z"
        },
        "id": "UwKlBEGNUqX4"
      }
    },
    {
      "cell_type": "markdown",
      "source": [
        "The competition dataset comprises a set of timeseries with 79 features and 9 responders, anonymized but representing real market data. The goal of the competition is to forecast one of these responders, i.e., responder_6, for up to six months in the future."
      ],
      "metadata": {
        "id": "7c7s0lZDUqX5"
      }
    },
    {
      "cell_type": "markdown",
      "source": [
        "In line with the forecasting task, the competition will proceed in two phases:\n",
        "\n",
        "A model training phase with a test set of historical data. This test set has about 4.5 million ro.\n",
        "\n",
        ".\n",
        "A forecasting phase with a test set to be collected after submissions close. You should expect this test set to be about the same size as the test set in the first phase."
      ],
      "metadata": {
        "id": "Tce7tuESUqX5"
      }
    },
    {
      "cell_type": "markdown",
      "source": [
        "**train.parquet** - The training set, contains historical data and returns. For convenience, the training set has been partitioned into ten parts.\n",
        "\n",
        "*\n",
        "date_id and time_id - Integer values that are ordinally sorted, providing a chronological structure to the data, although the actual time intervals between time_id values may vary\n",
        "\n",
        ".*\n",
        "symbol_id - Identifies a unique financial instrumen\n",
        "  \n",
        "t* .\n",
        "weight - The weighting used for calculating the scoring functi\n",
        "  \n",
        "o* n.\n",
        "feature_{00...78} - Anonymized market d\n",
        "  \n",
        "a* ta.\n",
        "responder_{0...8} - Anonymized responders clipped between -5 and 5. The responder_6 field is what you are trying to predict."
      ],
      "metadata": {
        "id": "Y06mNqHyUqX6"
      }
    },
    {
      "cell_type": "code",
      "source": [
        "import os\n",
        "import kaggle_evaluation.jane_street_inference_server\n",
        "import numpy as np\n",
        "import pandas as pd\n",
        "import polars as pl\n",
        "import seaborn as sns\n",
        "import gc\n",
        "import matplotlib.pyplot as plt\n",
        "\n",
        "import kaggle_evaluation.jane_street_inference_server\n",
        "import numpy as np\n",
        "import pickle\n",
        "import torch\n",
        "import torch.nn as nn\n",
        "import torch.optim as optim\n",
        "from torch.utils.data import Dataset, DataLoader\n",
        "from tqdm.notebook import tqdm\n",
        "from sklearn.metrics import r2_score\n",
        "from torch.cuda.amp import GradScaler, autocast\n"
      ],
      "metadata": {
        "trusted": true,
        "execution": {
          "iopub.status.busy": "2024-11-22T22:51:23.079896Z",
          "iopub.execute_input": "2024-11-22T22:51:23.08057Z",
          "iopub.status.idle": "2024-11-22T22:51:28.785344Z",
          "shell.execute_reply.started": "2024-11-22T22:51:23.08054Z",
          "shell.execute_reply": "2024-11-22T22:51:28.784572Z"
        },
        "id": "ci0e-KF-UqX7"
      },
      "outputs": [],
      "execution_count": null
    },
    {
      "cell_type": "code",
      "source": [
        "# file_path = \"/kaggle/input/jane-street-real-time-market-data-forecasting/train.parquet/partition_id=1/part-0.parquet\"\n",
        "# dt = pd.read_parquet(file_path)\n",
        "# dt"
      ],
      "metadata": {
        "trusted": true,
        "execution": {
          "iopub.status.busy": "2024-11-22T22:51:28.786744Z",
          "iopub.execute_input": "2024-11-22T22:51:28.787128Z",
          "iopub.status.idle": "2024-11-22T22:51:28.79104Z",
          "shell.execute_reply.started": "2024-11-22T22:51:28.787101Z",
          "shell.execute_reply": "2024-11-22T22:51:28.790112Z"
        },
        "id": "74DDtn8TUqX7"
      },
      "outputs": [],
      "execution_count": null
    },
    {
      "cell_type": "code",
      "source": [
        "data = []\n",
        "for i in range(9):\n",
        "    file_path = f\"/kaggle/input/jane-street-real-time-market-data-forecasting/train.parquet/partition_id={i}/part-0.parquet\"\n",
        "    dt = pd.read_parquet(file_path)\n",
        "    data.append(dt.sample(n=500000, random_state=42))\n",
        "\n",
        "del dt\n",
        "gc.collect()\n",
        "\n",
        "df = pd.concat(data, ignore_index=True)\n",
        "df.head()\n",
        "\n",
        "del data\n",
        "gc.collect()"
      ],
      "metadata": {
        "trusted": true,
        "execution": {
          "iopub.status.busy": "2024-11-22T22:51:28.792334Z",
          "iopub.execute_input": "2024-11-22T22:51:28.792739Z",
          "iopub.status.idle": "2024-11-22T22:52:39.954241Z",
          "shell.execute_reply.started": "2024-11-22T22:51:28.792693Z",
          "shell.execute_reply": "2024-11-22T22:52:39.953145Z"
        },
        "id": "-MHFfXZSUqX7"
      },
      "outputs": [],
      "execution_count": null
    },
    {
      "cell_type": "code",
      "source": [
        "df['symbol_id'].value_counts().sum()"
      ],
      "metadata": {
        "trusted": true,
        "execution": {
          "iopub.status.busy": "2024-11-22T22:52:39.956126Z",
          "iopub.execute_input": "2024-11-22T22:52:39.956387Z",
          "iopub.status.idle": "2024-11-22T22:52:39.993191Z",
          "shell.execute_reply.started": "2024-11-22T22:52:39.956362Z",
          "shell.execute_reply": "2024-11-22T22:52:39.992256Z"
        },
        "id": "_g7AutdaUqX8"
      },
      "outputs": [],
      "execution_count": null
    },
    {
      "cell_type": "code",
      "source": [
        "df.info()"
      ],
      "metadata": {
        "trusted": true,
        "execution": {
          "iopub.status.busy": "2024-11-22T22:52:39.994335Z",
          "iopub.execute_input": "2024-11-22T22:52:39.994665Z",
          "iopub.status.idle": "2024-11-22T22:52:40.01283Z",
          "shell.execute_reply.started": "2024-11-22T22:52:39.994638Z",
          "shell.execute_reply": "2024-11-22T22:52:40.011981Z"
        },
        "id": "_dnDJ0z5UqX8"
      },
      "outputs": [],
      "execution_count": null
    },
    {
      "cell_type": "code",
      "source": [
        "features = df.filter(regex = '^feature_')\n",
        "# features = features.astype('float16')\n",
        "responders = df.filter(regex='^responder_')\n",
        "responders = responders.astype('float16')\n",
        "weights = df['weight'].astype('float16')\n",
        "time_id = df[['time_id']].astype('int16')\n",
        "symbol_id = df[['symbol_id']].astype('int16')"
      ],
      "metadata": {
        "trusted": true,
        "execution": {
          "iopub.status.busy": "2024-11-22T22:52:40.013706Z",
          "iopub.execute_input": "2024-11-22T22:52:40.013947Z",
          "iopub.status.idle": "2024-11-22T22:52:40.847531Z",
          "shell.execute_reply.started": "2024-11-22T22:52:40.013923Z",
          "shell.execute_reply": "2024-11-22T22:52:40.846834Z"
        },
        "id": "CIJjUqsgUqX8"
      },
      "outputs": [],
      "execution_count": null
    },
    {
      "cell_type": "code",
      "source": [
        "for ft in features.columns[:3]:\n",
        "    sns.histplot(features[ft].astype(float))\n",
        "    plt.tight_layout();\n",
        "    plt.show();"
      ],
      "metadata": {
        "trusted": true,
        "execution": {
          "iopub.status.busy": "2024-11-22T22:52:40.848533Z",
          "iopub.execute_input": "2024-11-22T22:52:40.848813Z",
          "iopub.status.idle": "2024-11-22T22:52:55.500084Z",
          "shell.execute_reply.started": "2024-11-22T22:52:40.848786Z",
          "shell.execute_reply": "2024-11-22T22:52:55.499269Z"
        },
        "id": "eUTjzPCvUqX8"
      },
      "outputs": [],
      "execution_count": null
    },
    {
      "cell_type": "code",
      "source": [
        "# features.isnull().sum()\n",
        "# replace the null values with the mean\n",
        "from sklearn.preprocessing import StandardScaler, MinMaxScaler\n",
        "scaler = MinMaxScaler()\n",
        "features = features.fillna(features.mean())\n",
        "features_scaled = scaler.fit_transform(features)\n",
        "features = pd.DataFrame(features_scaled, columns=features.columns)\n",
        "features\n",
        "\n",
        "del features_scaled\n",
        "gc.collect()"
      ],
      "metadata": {
        "trusted": true,
        "execution": {
          "iopub.status.busy": "2024-11-22T22:52:55.501024Z",
          "iopub.execute_input": "2024-11-22T22:52:55.501303Z",
          "iopub.status.idle": "2024-11-22T22:53:02.003128Z",
          "shell.execute_reply.started": "2024-11-22T22:52:55.501274Z",
          "shell.execute_reply": "2024-11-22T22:53:02.00226Z"
        },
        "id": "bk1e5QbxUqX9"
      },
      "outputs": [],
      "execution_count": null
    },
    {
      "cell_type": "code",
      "source": [
        "for ft in features.columns[:3]:\n",
        "    sns.histplot(features[ft].astype(float))\n",
        "    plt.tight_layout();\n",
        "    plt.show();"
      ],
      "metadata": {
        "trusted": true,
        "execution": {
          "iopub.status.busy": "2024-11-22T22:53:02.004205Z",
          "iopub.execute_input": "2024-11-22T22:53:02.004577Z",
          "iopub.status.idle": "2024-11-22T22:53:14.123759Z",
          "shell.execute_reply.started": "2024-11-22T22:53:02.004539Z",
          "shell.execute_reply": "2024-11-22T22:53:14.122763Z"
        },
        "id": "efSK4br0UqX9"
      },
      "outputs": [],
      "execution_count": null
    },
    {
      "cell_type": "code",
      "source": [
        "from sklearn.model_selection import train_test_split\n",
        "X_train, X_val, y_train, y_val, weights_train, weights_val = train_test_split(\n",
        "    features, responders['responder_6'], weights, test_size=0.2, random_state=42\n",
        ")"
      ],
      "metadata": {
        "trusted": true,
        "execution": {
          "iopub.status.busy": "2024-11-22T22:53:14.126448Z",
          "iopub.execute_input": "2024-11-22T22:53:14.12675Z",
          "iopub.status.idle": "2024-11-22T22:53:17.022801Z",
          "shell.execute_reply.started": "2024-11-22T22:53:14.126723Z",
          "shell.execute_reply": "2024-11-22T22:53:17.021773Z"
        },
        "id": "XOe_ECk7UqX9"
      },
      "outputs": [],
      "execution_count": null
    },
    {
      "cell_type": "code",
      "source": [
        "print(f'X_train shape {X_train.shape}, y_train{y_train.shape}')\n",
        "print(f'X_val shape {X_val.shape}, y_val{y_val.shape}')\n",
        "print(f'weights_train shape {weights_train.shape}, weights_val{weights_val.shape}')\n"
      ],
      "metadata": {
        "trusted": true,
        "execution": {
          "iopub.status.busy": "2024-11-22T22:53:17.024116Z",
          "iopub.execute_input": "2024-11-22T22:53:17.024814Z",
          "iopub.status.idle": "2024-11-22T22:53:17.030099Z",
          "shell.execute_reply.started": "2024-11-22T22:53:17.024771Z",
          "shell.execute_reply": "2024-11-22T22:53:17.029119Z"
        },
        "id": "HOM_EqfFUqX9"
      },
      "outputs": [],
      "execution_count": null
    },
    {
      "cell_type": "code",
      "source": [
        "unique_symbol_ids = sorted(symbol_id['symbol_id'].unique())"
      ],
      "metadata": {
        "trusted": true,
        "execution": {
          "iopub.status.busy": "2024-11-22T22:53:17.031149Z",
          "iopub.execute_input": "2024-11-22T22:53:17.031452Z",
          "iopub.status.idle": "2024-11-22T22:53:17.062886Z",
          "shell.execute_reply.started": "2024-11-22T22:53:17.031392Z",
          "shell.execute_reply": "2024-11-22T22:53:17.062032Z"
        },
        "id": "_9dKJ0KXUqX9"
      },
      "outputs": [],
      "execution_count": null
    },
    {
      "cell_type": "markdown",
      "source": [
        "## Model"
      ],
      "metadata": {
        "id": "pCfOPAsWUqX-"
      }
    },
    {
      "cell_type": "code",
      "source": [
        "symbol_id_embedding = False\n",
        "class ModelJane(nn.Module):\n",
        "    def __init__ (self, num_features, unique_symbol_ids, embedding_dim=16):\n",
        "        super().__init__()\n",
        "        input_dim = num_features + (embedding_dim if symbol_id_embedding else 0)\n",
        "        self.fc1 = nn.Linear(input_dim, 512)\n",
        "        self.fc2 = nn.Linear(512, 256)\n",
        "        self.fc3 = nn.Linear(256, 128)\n",
        "        self.fc4 = nn.Linear(128, 1)\n",
        "        self.relu = nn.ReLU()\n",
        "        if symbol_id_embedding:\n",
        "            self.embedding = nn.Embedding(len(unique_symbol_ids), embedding_dim)\n",
        "\n",
        "    def forward(self, x, symbol_ids):\n",
        "        if symbol_id_embedding:\n",
        "            symbol_embeds = self.embedding(symbol_ids).squeeze(1)\n",
        "            x = torch.cat([x, symbol_embeds], dim =1)\n",
        "\n",
        "        x = self.fc1(x)\n",
        "        x = self.relu(x)\n",
        "        x = self.fc2(x)\n",
        "        x = self.relu(x)\n",
        "        x = self.fc3(x)\n",
        "        x = self.relu(x)\n",
        "\n",
        "        return self.fc4(x)\n",
        ""
      ],
      "metadata": {
        "trusted": true,
        "execution": {
          "iopub.status.busy": "2024-11-22T22:53:17.063869Z",
          "iopub.execute_input": "2024-11-22T22:53:17.064121Z",
          "iopub.status.idle": "2024-11-22T22:53:17.07076Z",
          "shell.execute_reply.started": "2024-11-22T22:53:17.064096Z",
          "shell.execute_reply": "2024-11-22T22:53:17.069859Z"
        },
        "id": "XQZWg0NyUqX-"
      },
      "outputs": [],
      "execution_count": null
    },
    {
      "cell_type": "code",
      "source": [
        "model = ModelJane(len(features.columns), unique_symbol_ids)\n",
        "model"
      ],
      "metadata": {
        "trusted": true,
        "execution": {
          "iopub.status.busy": "2024-11-22T22:53:17.071753Z",
          "iopub.execute_input": "2024-11-22T22:53:17.071986Z",
          "iopub.status.idle": "2024-11-22T22:53:17.105466Z",
          "shell.execute_reply.started": "2024-11-22T22:53:17.071964Z",
          "shell.execute_reply": "2024-11-22T22:53:17.104715Z"
        },
        "id": "-pajm2WxUqX-"
      },
      "outputs": [],
      "execution_count": null
    },
    {
      "cell_type": "code",
      "source": [
        "weights_train"
      ],
      "metadata": {
        "trusted": true,
        "execution": {
          "iopub.status.busy": "2024-11-22T22:53:17.106178Z",
          "iopub.execute_input": "2024-11-22T22:53:17.106383Z",
          "iopub.status.idle": "2024-11-22T22:53:17.113526Z",
          "shell.execute_reply.started": "2024-11-22T22:53:17.106362Z",
          "shell.execute_reply": "2024-11-22T22:53:17.112612Z"
        },
        "id": "1SOM2m7aUqX-"
      },
      "outputs": [],
      "execution_count": null
    },
    {
      "cell_type": "code",
      "source": [
        "\n",
        "class CustomDataset(Dataset):\n",
        "    def __init__(self, features, targets, weights=None):\n",
        "        self.features = torch.tensor(features.values, dtype=torch.float32)\n",
        "        self.targets = torch.tensor(targets.values, dtype=torch.float32)\n",
        "        self.weights = torch.tensor(weights.values, dtype=torch.float32) if weights is not None else None\n",
        "\n",
        "    def __len__(self):\n",
        "        return len(self.targets)\n",
        "\n",
        "    def __getitem__(self, idx):\n",
        "        x = self.features[idx]\n",
        "        y = self.targets[idx]\n",
        "        w = self.weights[idx] if self.weights is not None else 1.0\n",
        "        return x, y, w\n"
      ],
      "metadata": {
        "trusted": true,
        "execution": {
          "iopub.status.busy": "2024-11-22T22:53:17.1146Z",
          "iopub.execute_input": "2024-11-22T22:53:17.114835Z",
          "iopub.status.idle": "2024-11-22T22:53:17.121093Z",
          "shell.execute_reply.started": "2024-11-22T22:53:17.114813Z",
          "shell.execute_reply": "2024-11-22T22:53:17.120213Z"
        },
        "id": "WHt01HpLUqX-"
      },
      "outputs": [],
      "execution_count": null
    },
    {
      "cell_type": "code",
      "source": [
        "batch_size = 4096\n",
        "\n",
        "# Prepare training and validation datasets\n",
        "train_dataset = CustomDataset(X_train, y_train, weights_train)\n",
        "val_dataset = CustomDataset(X_val, y_val, weights_val)\n",
        "\n",
        "# Create DataLoaders\n",
        "train_loader = DataLoader(train_dataset, batch_size=batch_size, shuffle=True)\n",
        "val_loader = DataLoader(val_dataset, batch_size=batch_size, shuffle=False)\n"
      ],
      "metadata": {
        "trusted": true,
        "execution": {
          "iopub.status.busy": "2024-11-22T22:53:17.122117Z",
          "iopub.execute_input": "2024-11-22T22:53:17.122427Z",
          "iopub.status.idle": "2024-11-22T22:53:17.728638Z",
          "shell.execute_reply.started": "2024-11-22T22:53:17.12238Z",
          "shell.execute_reply": "2024-11-22T22:53:17.727812Z"
        },
        "id": "VgcYNLD1UqX-"
      },
      "outputs": [],
      "execution_count": null
    },
    {
      "cell_type": "code",
      "source": [
        "print(torch.cuda.is_available())  # Should return True if CUDA is available\n",
        "print(torch.version.cuda)"
      ],
      "metadata": {
        "trusted": true,
        "execution": {
          "iopub.status.busy": "2024-11-22T22:53:17.729715Z",
          "iopub.execute_input": "2024-11-22T22:53:17.73Z",
          "iopub.status.idle": "2024-11-22T22:53:17.791598Z",
          "shell.execute_reply.started": "2024-11-22T22:53:17.729975Z",
          "shell.execute_reply": "2024-11-22T22:53:17.790644Z"
        },
        "id": "SPorXA9tUqX_"
      },
      "outputs": [],
      "execution_count": null
    },
    {
      "cell_type": "code",
      "source": [
        "# Weighted R2 Scoring function\n",
        "def weighted_r2_score(y_true, y_pred, weights):\n",
        "    # Calculate the weighted residual sum of squares\n",
        "    residual_sum_of_squares = torch.sum(weights * (y_true - y_pred) ** 2)\n",
        "\n",
        "    # Calculate the weighted total sum of squares\n",
        "    total_sum_of_squares = torch.sum(weights * y_true ** 2)\n",
        "\n",
        "    # Calculate weighted R2 score\n",
        "    r2_score = 1 - (residual_sum_of_squares / total_sum_of_squares)\n",
        "\n",
        "    return r2_score.item()  # Return as a scalar value\n"
      ],
      "metadata": {
        "trusted": true,
        "execution": {
          "iopub.status.busy": "2024-11-22T22:53:17.792845Z",
          "iopub.execute_input": "2024-11-22T22:53:17.793218Z",
          "iopub.status.idle": "2024-11-22T22:53:17.800162Z",
          "shell.execute_reply.started": "2024-11-22T22:53:17.793179Z",
          "shell.execute_reply": "2024-11-22T22:53:17.799394Z"
        },
        "id": "ggUEqxO_UqX_"
      },
      "outputs": [],
      "execution_count": null
    },
    {
      "cell_type": "code",
      "source": [
        "\n",
        "\n",
        "\n",
        "# Initialize model, loss, and optimizer\n",
        "device = torch.device('cuda' if torch.cuda.is_available() else 'cpu')\n",
        "num_features = X_train.shape[1]\n",
        "unique_symbol_ids = unique_symbol_ids  # Update with actual unique symbol IDs if used\n",
        "model = ModelJane(num_features, unique_symbol_ids).to(device)\n",
        "\n",
        "criterion = nn.MSELoss(reduction='none')  # Use reduction='none' for weighted loss\n",
        "optimizer = optim.Adam(model.parameters(), lr=1e-3)\n",
        "\n",
        "# Initialize best validation loss\n",
        "best_val_loss = float('inf')\n",
        "\n",
        "# Training loop\n",
        "epochs = 10\n",
        "for epoch in range(epochs):\n",
        "    model.train()\n",
        "    train_loss = 0.0\n",
        "    for X_batch, y_batch, w_batch in train_loader:\n",
        "        X_batch, y_batch, w_batch = X_batch.to(device), y_batch.to(device), w_batch.to(device)\n",
        "\n",
        "        # Forward pass\n",
        "        predictions = model(X_batch, None).squeeze(1)  # Adjust based on model output\n",
        "        loss = criterion(predictions, y_batch)\n",
        "        weighted_loss = (loss * w_batch).mean()  # Weighted loss\n",
        "\n",
        "        # Backward pass\n",
        "        optimizer.zero_grad()\n",
        "        weighted_loss.backward()\n",
        "        optimizer.step()\n",
        "\n",
        "        train_loss += weighted_loss.item()\n",
        "\n",
        "    # print(f\"Epoch {epoch + 1}/{epochs}, \")\n",
        "\n",
        "    # Validation loop\n",
        "    model.eval()\n",
        "    val_loss = 0.0\n",
        "    val_r2_score = 0.0\n",
        "    with torch.no_grad():\n",
        "        for X_batch, y_batch, w_batch in val_loader:\n",
        "            X_batch, y_batch, w_batch = X_batch.to(device), y_batch.to(device), w_batch.to(device)\n",
        "\n",
        "            predictions = model(X_batch, None).squeeze(1)\n",
        "            loss = criterion(predictions, y_batch)\n",
        "            weighted_loss = (loss * w_batch).mean()\n",
        "\n",
        "            val_loss += weighted_loss.item()\n",
        "\n",
        "            # Compute the weighted R2 score for the current batch\n",
        "            r2 = weighted_r2_score(y_batch, predictions, w_batch)\n",
        "            val_r2_score += r2\n",
        "\n",
        "    # Average validation loss and R2 score across all batches\n",
        "    val_loss_avg = val_loss / len(val_loader)\n",
        "    val_r2_score_avg = val_r2_score / len(val_loader)\n",
        "\n",
        "    print(f\"Epoch {epoch + 1}/{epochs},Train Loss: {train_loss / len(train_loader)}, Validation Loss: {val_loss_avg}, Validation R2 Score: {val_r2_score_avg}\")\n",
        "\n",
        "    # Save the best model based on validation loss\n",
        "    if val_loss < best_val_loss:\n",
        "        best_val_loss = val_loss\n",
        "        # Save the model state_dict\n",
        "        torch.save(model.state_dict(), 'best_model.pth')\n",
        "        # print(f\"Best model saved at Epoch {epoch + 1} with Validation Loss: {val_loss_avg}\")\n"
      ],
      "metadata": {
        "trusted": true,
        "execution": {
          "iopub.status.busy": "2024-11-22T22:53:17.801225Z",
          "iopub.execute_input": "2024-11-22T22:53:17.80182Z",
          "iopub.status.idle": "2024-11-22T23:33:58.172134Z",
          "shell.execute_reply.started": "2024-11-22T22:53:17.801763Z",
          "shell.execute_reply": "2024-11-22T23:33:58.171244Z"
        },
        "id": "kXJ8oDlAUqX_"
      },
      "outputs": [],
      "execution_count": null
    },
    {
      "cell_type": "code",
      "source": [
        "model.load_state_dict(torch.load('best_model.pth', map_location=device, weights_only=True))\n",
        "model.eval()"
      ],
      "metadata": {
        "trusted": true,
        "execution": {
          "iopub.status.busy": "2024-11-22T23:33:58.173204Z",
          "iopub.execute_input": "2024-11-22T23:33:58.173609Z",
          "iopub.status.idle": "2024-11-22T23:33:58.185061Z",
          "shell.execute_reply.started": "2024-11-22T23:33:58.173583Z",
          "shell.execute_reply": "2024-11-22T23:33:58.184232Z"
        },
        "id": "4S2L9dD8UqYA"
      },
      "outputs": [],
      "execution_count": null
    },
    {
      "cell_type": "code",
      "source": [
        "def make_prediction(models, X, symbol_ids):\n",
        "    \"\"\"Generate predictions by averaging across all models.\"\"\"\n",
        "    y_preds = []\n",
        "    with torch.no_grad():\n",
        "        for model in models:\n",
        "            # Convert inputs to torch tensors\n",
        "            X_tensor = torch.tensor(X, dtype=torch.float32).to(device)\n",
        "            symbol_ids_tensor = torch.tensor(symbol_ids, dtype=torch.int).to(device)\n",
        "            # Predict and store results\n",
        "            y_pred = model(X_tensor, symbol_ids_tensor).squeeze(1)\n",
        "            y_preds.append(y_pred.cpu().numpy())\n",
        "    return np.mean(y_preds, axis=0)  # Ensemble by averaging predictions\n"
      ],
      "metadata": {
        "trusted": true,
        "execution": {
          "iopub.status.busy": "2024-11-22T23:33:58.185972Z",
          "iopub.execute_input": "2024-11-22T23:33:58.186205Z",
          "iopub.status.idle": "2024-11-22T23:33:58.192196Z",
          "shell.execute_reply.started": "2024-11-22T23:33:58.186182Z",
          "shell.execute_reply": "2024-11-22T23:33:58.191347Z"
        },
        "id": "7wXVZ_SqUqYA"
      },
      "outputs": [],
      "execution_count": null
    },
    {
      "cell_type": "code",
      "source": [
        "lags_ : pl.DataFrame | None = None\n",
        "\n",
        "\n",
        "def predict(test: pl.DataFrame, lags: pl.DataFrame | None) -> pl.DataFrame | pd.DataFrame:\n",
        "    \"\"\"Make a prediction.\"\"\"\n",
        "    # All the responders from the previous day are passed in at time_id == 0. We save them in a global variable for access at every time_id.\n",
        "    # Use them as extra features, if you like.\n",
        "    global lags_\n",
        "    if lags is not None:\n",
        "        lags_ = lags\n",
        "\n",
        "    X_test = test.select(features.columns).to_numpy()\n",
        "    col_means = features.mean().values\n",
        "    X_test = np.where(np.isnan(X_test), col_means, X_test)  # Replace NaNs with mean values\n",
        "    X_test = scaler.transform(X_test)  # Normalize features\n",
        "    X_test = np.nan_to_num(X_test, nan=0)  # Ensure no NaNs remain\n",
        "\n",
        "    # Extract symbol IDs\n",
        "    symbol_ids = test.select([\"symbol_id\"]).to_numpy()\n",
        "\n",
        "    # Make predictions\n",
        "    y_pred = make_prediction([model], X_test, symbol_ids)\n",
        "\n",
        "    # Prepare the output DataFrame\n",
        "    predictions = test.select('row_id').with_columns(\n",
        "        pl.Series(\"responder_6\", y_pred)\n",
        "    )\n",
        "\n",
        "    # Ensure output format is correct\n",
        "    assert isinstance(predictions, pl.DataFrame)\n",
        "    assert predictions.columns == ['row_id', 'responder_6']\n",
        "    assert len(predictions) == len(test)\n",
        "\n",
        "    return predictions"
      ],
      "metadata": {
        "trusted": true,
        "execution": {
          "iopub.status.busy": "2024-11-22T23:33:58.193126Z",
          "iopub.execute_input": "2024-11-22T23:33:58.193369Z",
          "iopub.status.idle": "2024-11-22T23:33:58.206252Z",
          "shell.execute_reply.started": "2024-11-22T23:33:58.19334Z",
          "shell.execute_reply": "2024-11-22T23:33:58.205553Z"
        },
        "id": "dyb2FmWFUqYA"
      },
      "outputs": [],
      "execution_count": null
    },
    {
      "cell_type": "code",
      "source": [
        "inference_server = kaggle_evaluation.jane_street_inference_server.JSInferenceServer(predict)\n",
        "\n",
        "if os.getenv('KAGGLE_IS_COMPETITION_RERUN'):\n",
        "    inference_server.serve()\n",
        "else:\n",
        "    inference_server.run_local_gateway(\n",
        "        (\n",
        "            '/kaggle/input/jane-street-real-time-market-data-forecasting/test.parquet',\n",
        "            '/kaggle/input/jane-street-real-time-market-data-forecasting/lags.parquet',\n",
        "        )\n",
        "    )"
      ],
      "metadata": {
        "trusted": true,
        "execution": {
          "iopub.status.busy": "2024-11-22T23:33:58.207211Z",
          "iopub.execute_input": "2024-11-22T23:33:58.207467Z",
          "iopub.status.idle": "2024-11-22T23:33:59.048516Z",
          "shell.execute_reply.started": "2024-11-22T23:33:58.20744Z",
          "shell.execute_reply": "2024-11-22T23:33:59.047551Z"
        },
        "id": "zUuIpLiLUqYB"
      },
      "outputs": [],
      "execution_count": null
    },
    {
      "cell_type": "code",
      "source": [],
      "metadata": {
        "trusted": true,
        "id": "mz8pKtzcUqYB"
      },
      "outputs": [],
      "execution_count": null
    }
  ]
}