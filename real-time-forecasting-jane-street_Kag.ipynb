{
 "cells": [
  {
   "cell_type": "markdown",
   "id": "5d0027d2",
   "metadata": {
    "execution": {
     "iopub.execute_input": "2024-11-22T14:01:22.847061Z",
     "iopub.status.busy": "2024-11-22T14:01:22.846646Z",
     "iopub.status.idle": "2024-11-22T14:01:22.851956Z",
     "shell.execute_reply": "2024-11-22T14:01:22.850909Z",
     "shell.execute_reply.started": "2024-11-22T14:01:22.847017Z"
    },
    "papermill": {
     "duration": 0.005116,
     "end_time": "2024-11-24T19:25:17.090409",
     "exception": false,
     "start_time": "2024-11-24T19:25:17.085293",
     "status": "completed"
    },
    "tags": []
   },
   "source": [
    "## REAL TIME FORECASTING (JANE STREET)"
   ]
  },
  {
   "cell_type": "markdown",
   "id": "1f049a4d",
   "metadata": {
    "papermill": {
     "duration": 0.004121,
     "end_time": "2024-11-24T19:25:17.098977",
     "exception": false,
     "start_time": "2024-11-24T19:25:17.094856",
     "status": "completed"
    },
    "tags": []
   },
   "source": [
    "The competition dataset comprises a set of timeseries with 79 features and 9 responders, anonymized but representing real market data. The goal of the competition is to forecast one of these responders, i.e., responder_6, for up to six months in the future."
   ]
  },
  {
   "cell_type": "markdown",
   "id": "f470a8d7",
   "metadata": {
    "papermill": {
     "duration": 0.003993,
     "end_time": "2024-11-24T19:25:17.107328",
     "exception": false,
     "start_time": "2024-11-24T19:25:17.103335",
     "status": "completed"
    },
    "tags": []
   },
   "source": [
    "In line with the forecasting task, the competition will proceed in two phases:\r\n",
    "\r\n",
    "A model training phase with a test set of historical data. This test set has about 4.5 million ro. \n",
    "\n",
    ".\r\n",
    "A forecasting phase with a test set to be collected after submissions close. You should expect this test set to be about the same size as the test set in the first phase."
   ]
  },
  {
   "cell_type": "markdown",
   "id": "adea43d1",
   "metadata": {
    "papermill": {
     "duration": 0.004085,
     "end_time": "2024-11-24T19:25:17.116649",
     "exception": false,
     "start_time": "2024-11-24T19:25:17.112564",
     "status": "completed"
    },
    "tags": []
   },
   "source": [
    "**train.parquet** - The training set, contains historical data and returns. For convenience, the training set has been partitioned into ten parts.\n",
    "\r",
    "* \n",
    "date_id and time_id - Integer values that are ordinally sorted, providing a chronological structure to the data, although the actual time intervals between time_id values may vary\n",
    "\n",
    ".* \r\n",
    "symbol_id - Identifies a unique financial instrumen\n",
    "  \n",
    "t* .\r\n",
    "weight - The weighting used for calculating the scoring functi\n",
    "  \n",
    "o* n.\r\n",
    "feature_{00...78} - Anonymized market d\n",
    "  \n",
    "a* ta.\r\n",
    "responder_{0...8} - Anonymized responders clipped between -5 and 5. The responder_6 field is what you are trying to predict."
   ]
  },
  {
   "cell_type": "code",
   "execution_count": 1,
   "id": "83ec1cff",
   "metadata": {
    "execution": {
     "iopub.execute_input": "2024-11-24T19:25:17.127183Z",
     "iopub.status.busy": "2024-11-24T19:25:17.126435Z",
     "iopub.status.idle": "2024-11-24T19:25:22.350227Z",
     "shell.execute_reply": "2024-11-24T19:25:22.349458Z"
    },
    "papermill": {
     "duration": 5.23132,
     "end_time": "2024-11-24T19:25:22.352175",
     "exception": false,
     "start_time": "2024-11-24T19:25:17.120855",
     "status": "completed"
    },
    "tags": []
   },
   "outputs": [],
   "source": [
    "import os\n",
    "import kaggle_evaluation.jane_street_inference_server\n",
    "import numpy as np\n",
    "import pandas as pd\n",
    "import polars as pl\n",
    "import seaborn as sns\n",
    "import gc\n",
    "import matplotlib.pyplot as plt \n",
    "\n",
    "import kaggle_evaluation.jane_street_inference_server\n",
    "import numpy as np\n",
    "import pickle\n",
    "import torch\n",
    "import torch.nn as nn\n",
    "import torch.optim as optim\n",
    "from torch.utils.data import Dataset, DataLoader\n",
    "from tqdm.notebook import tqdm\n",
    "from sklearn.metrics import r2_score\n",
    "from torch.cuda.amp import GradScaler, autocast\n"
   ]
  },
  {
   "cell_type": "code",
   "execution_count": 2,
   "id": "c855dd97",
   "metadata": {
    "execution": {
     "iopub.execute_input": "2024-11-24T19:25:22.363917Z",
     "iopub.status.busy": "2024-11-24T19:25:22.363487Z",
     "iopub.status.idle": "2024-11-24T19:26:40.742793Z",
     "shell.execute_reply": "2024-11-24T19:26:40.741895Z"
    },
    "papermill": {
     "duration": 78.390973,
     "end_time": "2024-11-24T19:26:40.748780",
     "exception": false,
     "start_time": "2024-11-24T19:25:22.357807",
     "status": "completed"
    },
    "tags": []
   },
   "outputs": [
    {
     "data": {
      "text/plain": [
       "0"
      ]
     },
     "execution_count": 2,
     "metadata": {},
     "output_type": "execute_result"
    }
   ],
   "source": [
    "data = []\n",
    "for i in range(9):\n",
    "    file_path = f\"/kaggle/input/jane-street-real-time-market-data-forecasting/train.parquet/partition_id={i}/part-0.parquet\"\n",
    "    dt = pd.read_parquet(file_path)\n",
    "    data.append(dt.sample(n=500000, random_state=42))\n",
    "\n",
    "del dt\n",
    "gc.collect()\n",
    "\n",
    "df = pd.concat(data, ignore_index=True)\n",
    "df.head()\n",
    "\n",
    "del data\n",
    "gc.collect()"
   ]
  },
  {
   "cell_type": "code",
   "execution_count": 3,
   "id": "2f78356a",
   "metadata": {
    "execution": {
     "iopub.execute_input": "2024-11-24T19:26:40.758839Z",
     "iopub.status.busy": "2024-11-24T19:26:40.758572Z",
     "iopub.status.idle": "2024-11-24T19:26:41.579293Z",
     "shell.execute_reply": "2024-11-24T19:26:41.578615Z"
    },
    "papermill": {
     "duration": 0.827901,
     "end_time": "2024-11-24T19:26:41.581248",
     "exception": false,
     "start_time": "2024-11-24T19:26:40.753347",
     "status": "completed"
    },
    "tags": []
   },
   "outputs": [],
   "source": [
    "features = df.filter(regex = '^feature_')\n",
    "# features = features.astype('float16')\n",
    "responders = df.filter(regex='^responder_')\n",
    "responders = responders.astype('float16')\n",
    "weights = df['weight'].astype('float16')\n",
    "time_id = df[['time_id']].astype('int16')\n",
    "symbol_id = df[['symbol_id']].astype('int16')"
   ]
  },
  {
   "cell_type": "code",
   "execution_count": 4,
   "id": "bc7a53ad",
   "metadata": {
    "execution": {
     "iopub.execute_input": "2024-11-24T19:26:41.591956Z",
     "iopub.status.busy": "2024-11-24T19:26:41.591258Z",
     "iopub.status.idle": "2024-11-24T19:26:47.904051Z",
     "shell.execute_reply": "2024-11-24T19:26:47.903122Z"
    },
    "papermill": {
     "duration": 6.320178,
     "end_time": "2024-11-24T19:26:47.906009",
     "exception": false,
     "start_time": "2024-11-24T19:26:41.585831",
     "status": "completed"
    },
    "tags": []
   },
   "outputs": [
    {
     "data": {
      "text/plain": [
       "0"
      ]
     },
     "execution_count": 4,
     "metadata": {},
     "output_type": "execute_result"
    }
   ],
   "source": [
    "# features.isnull().sum()\n",
    "# replace the null values with the mean\n",
    "# from sklearn.preprocessing import StandardScaler, MinMaxScaler\n",
    "# scaler = MinMaxScaler()\n",
    "features = features.fillna(features.mean())\n",
    "features_scaled = (features - features.min()) / (features.max() - features.min())\n",
    "features = pd.DataFrame(features_scaled, columns=features.columns)\n",
    "features\n",
    "\n",
    "del features_scaled\n",
    "gc.collect()"
   ]
  },
  {
   "cell_type": "code",
   "execution_count": 5,
   "id": "4b39b6dc",
   "metadata": {
    "execution": {
     "iopub.execute_input": "2024-11-24T19:26:47.916951Z",
     "iopub.status.busy": "2024-11-24T19:26:47.916673Z",
     "iopub.status.idle": "2024-11-24T19:26:47.920400Z",
     "shell.execute_reply": "2024-11-24T19:26:47.919588Z"
    },
    "papermill": {
     "duration": 0.011048,
     "end_time": "2024-11-24T19:26:47.922057",
     "exception": false,
     "start_time": "2024-11-24T19:26:47.911009",
     "status": "completed"
    },
    "tags": []
   },
   "outputs": [],
   "source": [
    "# for ft in features.columns[:3]:\n",
    "#     sns.histplot(features[ft].astype(float))\n",
    "#     plt.tight_layout();\n",
    "#     plt.show();"
   ]
  },
  {
   "cell_type": "code",
   "execution_count": 6,
   "id": "19fec439",
   "metadata": {
    "execution": {
     "iopub.execute_input": "2024-11-24T19:26:47.932316Z",
     "iopub.status.busy": "2024-11-24T19:26:47.932007Z",
     "iopub.status.idle": "2024-11-24T19:26:52.007089Z",
     "shell.execute_reply": "2024-11-24T19:26:52.006275Z"
    },
    "papermill": {
     "duration": 4.082439,
     "end_time": "2024-11-24T19:26:52.009257",
     "exception": false,
     "start_time": "2024-11-24T19:26:47.926818",
     "status": "completed"
    },
    "tags": []
   },
   "outputs": [],
   "source": [
    "from sklearn.model_selection import train_test_split\n",
    "X_train, X_val, y_train, y_val, weights_train, weights_val = train_test_split(\n",
    "    features, responders['responder_6'], weights, test_size=0.2, random_state=42\n",
    ")"
   ]
  },
  {
   "cell_type": "code",
   "execution_count": 7,
   "id": "e6284555",
   "metadata": {
    "execution": {
     "iopub.execute_input": "2024-11-24T19:26:52.020270Z",
     "iopub.status.busy": "2024-11-24T19:26:52.019869Z",
     "iopub.status.idle": "2024-11-24T19:26:52.025076Z",
     "shell.execute_reply": "2024-11-24T19:26:52.024201Z"
    },
    "papermill": {
     "duration": 0.012913,
     "end_time": "2024-11-24T19:26:52.027097",
     "exception": false,
     "start_time": "2024-11-24T19:26:52.014184",
     "status": "completed"
    },
    "tags": []
   },
   "outputs": [
    {
     "name": "stdout",
     "output_type": "stream",
     "text": [
      "X_train shape (3600000, 79), y_train(3600000,)\n",
      "X_val shape (900000, 79), y_val(900000,)\n",
      "weights_train shape (3600000,), weights_val(900000,)\n"
     ]
    }
   ],
   "source": [
    "print(f'X_train shape {X_train.shape}, y_train{y_train.shape}')\n",
    "print(f'X_val shape {X_val.shape}, y_val{y_val.shape}')\n",
    "print(f'weights_train shape {weights_train.shape}, weights_val{weights_val.shape}')\n"
   ]
  },
  {
   "cell_type": "code",
   "execution_count": 8,
   "id": "f8c107d1",
   "metadata": {
    "execution": {
     "iopub.execute_input": "2024-11-24T19:26:52.037703Z",
     "iopub.status.busy": "2024-11-24T19:26:52.037447Z",
     "iopub.status.idle": "2024-11-24T19:26:52.041117Z",
     "shell.execute_reply": "2024-11-24T19:26:52.040396Z"
    },
    "papermill": {
     "duration": 0.010911,
     "end_time": "2024-11-24T19:26:52.042762",
     "exception": false,
     "start_time": "2024-11-24T19:26:52.031851",
     "status": "completed"
    },
    "tags": []
   },
   "outputs": [],
   "source": [
    "# unique_symbol_ids = sorted(symbol_id['symbol_id'].unique())"
   ]
  },
  {
   "cell_type": "markdown",
   "id": "4d87d4f9",
   "metadata": {
    "papermill": {
     "duration": 0.004252,
     "end_time": "2024-11-24T19:26:52.051561",
     "exception": false,
     "start_time": "2024-11-24T19:26:52.047309",
     "status": "completed"
    },
    "tags": []
   },
   "source": [
    "## Model"
   ]
  },
  {
   "cell_type": "code",
   "execution_count": 9,
   "id": "67a500eb",
   "metadata": {
    "execution": {
     "iopub.execute_input": "2024-11-24T19:26:52.061652Z",
     "iopub.status.busy": "2024-11-24T19:26:52.061355Z",
     "iopub.status.idle": "2024-11-24T19:26:52.067815Z",
     "shell.execute_reply": "2024-11-24T19:26:52.067111Z"
    },
    "papermill": {
     "duration": 0.013543,
     "end_time": "2024-11-24T19:26:52.069565",
     "exception": false,
     "start_time": "2024-11-24T19:26:52.056022",
     "status": "completed"
    },
    "tags": []
   },
   "outputs": [],
   "source": [
    "symbol_id_embedding = False\n",
    "class ModelJane(nn.Module):\n",
    "    def __init__ (self, num_features, unique_symbol_ids, embedding_dim=16):\n",
    "        super().__init__()\n",
    "        input_dim = num_features + (embedding_dim if symbol_id_embedding else 0)\n",
    "        self.fc1 = nn.Linear(input_dim, 512)\n",
    "        self.fc2 = nn.Linear(512, 256)\n",
    "        self.fc3 = nn.Linear(256, 128)\n",
    "        self.fc4 = nn.Linear(128, 1)\n",
    "        self.relu = nn.ReLU()\n",
    "        if symbol_id_embedding:\n",
    "            self.embedding = nn.Embedding(len(unique_symbol_ids), embedding_dim)\n",
    "\n",
    "    def forward(self, x, symbol_ids):\n",
    "        if symbol_id_embedding:\n",
    "            symbol_embeds = self.embedding(symbol_ids).squeeze(1)\n",
    "            x = torch.cat([x, symbol_embeds], dim =1)\n",
    "\n",
    "        x = self.fc1(x)\n",
    "        x = self.relu(x)\n",
    "        x = self.fc2(x)\n",
    "        x = self.relu(x)\n",
    "        x = self.fc3(x)\n",
    "        x = self.relu(x)\n",
    "\n",
    "        return self.fc4(x)\n",
    "            "
   ]
  },
  {
   "cell_type": "code",
   "execution_count": 10,
   "id": "88d14526",
   "metadata": {
    "execution": {
     "iopub.execute_input": "2024-11-24T19:26:52.079415Z",
     "iopub.status.busy": "2024-11-24T19:26:52.079156Z",
     "iopub.status.idle": "2024-11-24T19:26:52.103745Z",
     "shell.execute_reply": "2024-11-24T19:26:52.103090Z"
    },
    "papermill": {
     "duration": 0.031558,
     "end_time": "2024-11-24T19:26:52.105580",
     "exception": false,
     "start_time": "2024-11-24T19:26:52.074022",
     "status": "completed"
    },
    "tags": []
   },
   "outputs": [],
   "source": [
    "unique_symbol_ids = sorted(symbol_id['symbol_id'].unique())\n"
   ]
  },
  {
   "cell_type": "code",
   "execution_count": 11,
   "id": "c5524f85",
   "metadata": {
    "execution": {
     "iopub.execute_input": "2024-11-24T19:26:52.116540Z",
     "iopub.status.busy": "2024-11-24T19:26:52.116266Z",
     "iopub.status.idle": "2024-11-24T19:26:52.142654Z",
     "shell.execute_reply": "2024-11-24T19:26:52.141810Z"
    },
    "papermill": {
     "duration": 0.033529,
     "end_time": "2024-11-24T19:26:52.144453",
     "exception": false,
     "start_time": "2024-11-24T19:26:52.110924",
     "status": "completed"
    },
    "tags": []
   },
   "outputs": [
    {
     "data": {
      "text/plain": [
       "ModelJane(\n",
       "  (fc1): Linear(in_features=79, out_features=512, bias=True)\n",
       "  (fc2): Linear(in_features=512, out_features=256, bias=True)\n",
       "  (fc3): Linear(in_features=256, out_features=128, bias=True)\n",
       "  (fc4): Linear(in_features=128, out_features=1, bias=True)\n",
       "  (relu): ReLU()\n",
       ")"
      ]
     },
     "execution_count": 11,
     "metadata": {},
     "output_type": "execute_result"
    }
   ],
   "source": [
    "model = ModelJane(len(features.columns), unique_symbol_ids)\n",
    "model"
   ]
  },
  {
   "cell_type": "code",
   "execution_count": 12,
   "id": "7ec3b949",
   "metadata": {
    "execution": {
     "iopub.execute_input": "2024-11-24T19:26:52.155035Z",
     "iopub.status.busy": "2024-11-24T19:26:52.154473Z",
     "iopub.status.idle": "2024-11-24T19:26:52.157912Z",
     "shell.execute_reply": "2024-11-24T19:26:52.157261Z"
    },
    "papermill": {
     "duration": 0.010359,
     "end_time": "2024-11-24T19:26:52.159585",
     "exception": false,
     "start_time": "2024-11-24T19:26:52.149226",
     "status": "completed"
    },
    "tags": []
   },
   "outputs": [],
   "source": [
    "# weights_train"
   ]
  },
  {
   "cell_type": "code",
   "execution_count": 13,
   "id": "108cd627",
   "metadata": {
    "execution": {
     "iopub.execute_input": "2024-11-24T19:26:52.169709Z",
     "iopub.status.busy": "2024-11-24T19:26:52.169478Z",
     "iopub.status.idle": "2024-11-24T19:26:52.174689Z",
     "shell.execute_reply": "2024-11-24T19:26:52.174004Z"
    },
    "papermill": {
     "duration": 0.011997,
     "end_time": "2024-11-24T19:26:52.176162",
     "exception": false,
     "start_time": "2024-11-24T19:26:52.164165",
     "status": "completed"
    },
    "tags": []
   },
   "outputs": [],
   "source": [
    "\n",
    "class CustomDataset(Dataset):\n",
    "    def __init__(self, features, targets, weights=None):\n",
    "        self.features = torch.tensor(features.values, dtype=torch.float32)\n",
    "        self.targets = torch.tensor(targets.values, dtype=torch.float32)\n",
    "        self.weights = torch.tensor(weights.values, dtype=torch.float32) if weights is not None else None\n",
    "\n",
    "    def __len__(self):\n",
    "        return len(self.targets)\n",
    "\n",
    "    def __getitem__(self, idx):\n",
    "        x = self.features[idx]\n",
    "        y = self.targets[idx]\n",
    "        w = self.weights[idx] if self.weights is not None else 1.0\n",
    "        return x, y, w\n"
   ]
  },
  {
   "cell_type": "code",
   "execution_count": 14,
   "id": "808ca20e",
   "metadata": {
    "execution": {
     "iopub.execute_input": "2024-11-24T19:26:52.185929Z",
     "iopub.status.busy": "2024-11-24T19:26:52.185708Z",
     "iopub.status.idle": "2024-11-24T19:26:52.989903Z",
     "shell.execute_reply": "2024-11-24T19:26:52.989119Z"
    },
    "papermill": {
     "duration": 0.81159,
     "end_time": "2024-11-24T19:26:52.992267",
     "exception": false,
     "start_time": "2024-11-24T19:26:52.180677",
     "status": "completed"
    },
    "tags": []
   },
   "outputs": [],
   "source": [
    "batch_size = 4096\n",
    "\n",
    "# Prepare training and validation datasets\n",
    "train_dataset = CustomDataset(X_train, y_train, weights_train)\n",
    "val_dataset = CustomDataset(X_val, y_val, weights_val)\n",
    "\n",
    "# Create DataLoaders\n",
    "train_loader = DataLoader(train_dataset, batch_size=batch_size, shuffle=True)\n",
    "val_loader = DataLoader(val_dataset, batch_size=batch_size, shuffle=False)\n"
   ]
  },
  {
   "cell_type": "code",
   "execution_count": 15,
   "id": "1e48aedb",
   "metadata": {
    "execution": {
     "iopub.execute_input": "2024-11-24T19:26:53.005813Z",
     "iopub.status.busy": "2024-11-24T19:26:53.005519Z",
     "iopub.status.idle": "2024-11-24T19:26:53.090610Z",
     "shell.execute_reply": "2024-11-24T19:26:53.089527Z"
    },
    "papermill": {
     "duration": 0.093239,
     "end_time": "2024-11-24T19:26:53.092906",
     "exception": false,
     "start_time": "2024-11-24T19:26:52.999667",
     "status": "completed"
    },
    "tags": []
   },
   "outputs": [
    {
     "name": "stdout",
     "output_type": "stream",
     "text": [
      "True\n",
      "12.3\n"
     ]
    }
   ],
   "source": [
    "print(torch.cuda.is_available())  # Should return True if CUDA is available\n",
    "print(torch.version.cuda)"
   ]
  },
  {
   "cell_type": "code",
   "execution_count": 16,
   "id": "beb954c1",
   "metadata": {
    "execution": {
     "iopub.execute_input": "2024-11-24T19:26:53.107829Z",
     "iopub.status.busy": "2024-11-24T19:26:53.107274Z",
     "iopub.status.idle": "2024-11-24T19:26:53.111933Z",
     "shell.execute_reply": "2024-11-24T19:26:53.111197Z"
    },
    "papermill": {
     "duration": 0.013796,
     "end_time": "2024-11-24T19:26:53.113672",
     "exception": false,
     "start_time": "2024-11-24T19:26:53.099876",
     "status": "completed"
    },
    "tags": []
   },
   "outputs": [],
   "source": [
    "# Weighted R2 Scoring function\n",
    "def weighted_r2_score(y_true, y_pred, weights):\n",
    "    # Calculate the weighted residual sum of squares\n",
    "    residual_sum_of_squares = torch.sum(weights * (y_true - y_pred) ** 2)\n",
    "    \n",
    "    # Calculate the weighted total sum of squares\n",
    "    total_sum_of_squares = torch.sum(weights * y_true ** 2)\n",
    "    \n",
    "    # Calculate weighted R2 score\n",
    "    r2_score = 1 - (residual_sum_of_squares / total_sum_of_squares)\n",
    "    \n",
    "    return r2_score.item()  # Return as a scalar value\n"
   ]
  },
  {
   "cell_type": "code",
   "execution_count": 17,
   "id": "ed3b0fca",
   "metadata": {
    "execution": {
     "iopub.execute_input": "2024-11-24T19:26:53.124475Z",
     "iopub.status.busy": "2024-11-24T19:26:53.124154Z",
     "iopub.status.idle": "2024-11-24T19:38:12.388653Z",
     "shell.execute_reply": "2024-11-24T19:38:12.387681Z"
    },
    "papermill": {
     "duration": 679.277138,
     "end_time": "2024-11-24T19:38:12.395549",
     "exception": false,
     "start_time": "2024-11-24T19:26:53.118411",
     "status": "completed"
    },
    "tags": []
   },
   "outputs": [
    {
     "name": "stdout",
     "output_type": "stream",
     "text": [
      "Epoch 1/8,Train Loss: 1.4265409173683365, Validation Loss: 1.4215667605400086, Validation R2 Score: 0.0024123170159079813\n",
      "Epoch 2/8,Train Loss: 1.4246595810433431, Validation Loss: 1.4193368543278087, Validation R2 Score: 0.0039773225784301754\n",
      "Epoch 3/8,Train Loss: 1.4228803453727523, Validation Loss: 1.4166550668803128, Validation R2 Score: 0.005833438038825989\n",
      "Epoch 4/8,Train Loss: 1.4215230680027378, Validation Loss: 1.415498479387977, Validation R2 Score: 0.00662418089129708\n",
      "Epoch 5/8,Train Loss: 1.4199697054558105, Validation Loss: 1.4152839210900394, Validation R2 Score: 0.006770481304688887\n",
      "Epoch 6/8,Train Loss: 1.418906886965477, Validation Loss: 1.4152929885820908, Validation R2 Score: 0.006791592186147517\n",
      "Epoch 7/8,Train Loss: 1.4184574394638356, Validation Loss: 1.4135316079313105, Validation R2 Score: 0.008012412623925642\n",
      "Epoch 8/8,Train Loss: 1.417768773907823, Validation Loss: 1.412623297626322, Validation R2 Score: 0.008645745028148999\n"
     ]
    }
   ],
   "source": [
    " # Initialize model, loss, and optimizer\n",
    "device = torch.device('cuda' if torch.cuda.is_available() else 'cpu')\n",
    "num_features = X_train.shape[1]\n",
    "unique_symbol_ids = unique_symbol_ids  # Update with actual unique symbol IDs if used\n",
    "model = ModelJane(num_features, unique_symbol_ids).to(device)\n",
    "\n",
    "criterion = nn.MSELoss(reduction='none')  # Use reduction='none' for weighted loss\n",
    "optimizer = optim.Adam(model.parameters(), lr=1e-3)\n",
    "\n",
    "# Initialize best validation loss\n",
    "best_val_loss = float('inf')\n",
    "\n",
    "# Training loop\n",
    "epochs = 8\n",
    "for epoch in range(epochs):\n",
    "    model.train()\n",
    "    train_loss = 0.0\n",
    "    for X_batch, y_batch, w_batch in train_loader:\n",
    "        X_batch, y_batch, w_batch = X_batch.to(device), y_batch.to(device), w_batch.to(device)\n",
    "\n",
    "        # Forward pass\n",
    "        predictions = model(X_batch, None).squeeze(1)  # Adjust based on model output\n",
    "        loss = criterion(predictions, y_batch)\n",
    "        weighted_loss = (loss * w_batch).mean()  # Weighted loss\n",
    "\n",
    "        # Backward pass\n",
    "        optimizer.zero_grad()\n",
    "        weighted_loss.backward()\n",
    "        optimizer.step()\n",
    "\n",
    "        train_loss += weighted_loss.item()\n",
    "\n",
    "    # print(f\"Epoch {epoch + 1}/{epochs}, \")\n",
    "\n",
    "    # Validation loop\n",
    "    model.eval()\n",
    "    val_loss = 0.0\n",
    "    val_r2_score = 0.0\n",
    "    with torch.no_grad():\n",
    "        for X_batch, y_batch, w_batch in val_loader:\n",
    "            X_batch, y_batch, w_batch = X_batch.to(device), y_batch.to(device), w_batch.to(device)\n",
    "\n",
    "            predictions = model(X_batch, None).squeeze(1)\n",
    "            loss = criterion(predictions, y_batch)\n",
    "            weighted_loss = (loss * w_batch).mean()\n",
    "\n",
    "            val_loss += weighted_loss.item()\n",
    "\n",
    "            # Compute the weighted R2 score for the current batch\n",
    "            r2 = weighted_r2_score(y_batch, predictions, w_batch)\n",
    "            val_r2_score += r2\n",
    "\n",
    "    # Average validation loss and R2 score across all batches\n",
    "    val_loss_avg = val_loss / len(val_loader)\n",
    "    val_r2_score_avg = val_r2_score / len(val_loader)\n",
    "\n",
    "    print(f\"Epoch {epoch + 1}/{epochs},Train Loss: {train_loss / len(train_loader)}, Validation Loss: {val_loss_avg}, Validation R2 Score: {val_r2_score_avg}\")\n",
    "\n",
    "    # Save the best model based on validation loss\n",
    "    if val_loss < best_val_loss:\n",
    "        best_val_loss = val_loss\n",
    "        # Save the model state_dict\n",
    "        torch.save(model.state_dict(), 'best_model.pth')\n",
    "        # print(f\"Best model saved at Epoch {epoch + 1} with Validation Loss: {val_loss_avg}\")\n"
   ]
  },
  {
   "cell_type": "code",
   "execution_count": 18,
   "id": "8f085a84",
   "metadata": {
    "execution": {
     "iopub.execute_input": "2024-11-24T19:38:12.406764Z",
     "iopub.status.busy": "2024-11-24T19:38:12.406320Z",
     "iopub.status.idle": "2024-11-24T19:38:12.416990Z",
     "shell.execute_reply": "2024-11-24T19:38:12.415898Z"
    },
    "papermill": {
     "duration": 0.018304,
     "end_time": "2024-11-24T19:38:12.418716",
     "exception": false,
     "start_time": "2024-11-24T19:38:12.400412",
     "status": "completed"
    },
    "tags": []
   },
   "outputs": [
    {
     "data": {
      "text/plain": [
       "ModelJane(\n",
       "  (fc1): Linear(in_features=79, out_features=512, bias=True)\n",
       "  (fc2): Linear(in_features=512, out_features=256, bias=True)\n",
       "  (fc3): Linear(in_features=256, out_features=128, bias=True)\n",
       "  (fc4): Linear(in_features=128, out_features=1, bias=True)\n",
       "  (relu): ReLU()\n",
       ")"
      ]
     },
     "execution_count": 18,
     "metadata": {},
     "output_type": "execute_result"
    }
   ],
   "source": [
    "model.load_state_dict(torch.load('best_model.pth', map_location=device, weights_only=True))\n",
    "model.eval()"
   ]
  },
  {
   "cell_type": "code",
   "execution_count": 19,
   "id": "8992b4bd",
   "metadata": {
    "execution": {
     "iopub.execute_input": "2024-11-24T19:38:12.430629Z",
     "iopub.status.busy": "2024-11-24T19:38:12.429843Z",
     "iopub.status.idle": "2024-11-24T19:38:12.437795Z",
     "shell.execute_reply": "2024-11-24T19:38:12.436758Z"
    },
    "papermill": {
     "duration": 0.016367,
     "end_time": "2024-11-24T19:38:12.440369",
     "exception": false,
     "start_time": "2024-11-24T19:38:12.424002",
     "status": "completed"
    },
    "tags": []
   },
   "outputs": [],
   "source": [
    "def make_prediction(models, X, symbol_ids):\n",
    "    \"\"\"Generate predictions by averaging across all models.\"\"\"\n",
    "    y_preds = []\n",
    "    with torch.no_grad():\n",
    "        for model in models:\n",
    "            # Convert inputs to torch tensors\n",
    "            X_tensor = torch.tensor(X, dtype=torch.float32).to(device)\n",
    "            symbol_ids_tensor = torch.tensor(symbol_ids, dtype=torch.int).to(device)\n",
    "            # Predict and store results\n",
    "            y_pred = model(X_tensor, symbol_ids_tensor).squeeze(1)\n",
    "            y_preds.append(y_pred.cpu().numpy())\n",
    "    return np.mean(y_preds, axis=0)  # Ensemble by averaging predictions\n"
   ]
  },
  {
   "cell_type": "code",
   "execution_count": 20,
   "id": "85755418",
   "metadata": {
    "execution": {
     "iopub.execute_input": "2024-11-24T19:38:12.459981Z",
     "iopub.status.busy": "2024-11-24T19:38:12.459423Z",
     "iopub.status.idle": "2024-11-24T19:38:12.467562Z",
     "shell.execute_reply": "2024-11-24T19:38:12.466354Z"
    },
    "papermill": {
     "duration": 0.018365,
     "end_time": "2024-11-24T19:38:12.469856",
     "exception": false,
     "start_time": "2024-11-24T19:38:12.451491",
     "status": "completed"
    },
    "tags": []
   },
   "outputs": [],
   "source": [
    "lags_ : pl.DataFrame | None = None\n",
    "\n",
    "\n",
    "def predict(test: pl.DataFrame, lags: pl.DataFrame | None) -> pl.DataFrame | pd.DataFrame:\n",
    "    \"\"\"Make a prediction.\"\"\"\n",
    "    # All the responders from the previous day are passed in at time_id == 0. We save them in a global variable for access at every time_id.\n",
    "    # Use them as extra features, if you like.\n",
    "    global lags_\n",
    "    if lags is not None:\n",
    "        lags_ = lags\n",
    "\n",
    "    X_test = test.select(features.columns).to_numpy()\n",
    "    col_means = features.mean().values \n",
    "    X_test = np.where(np.isnan(X_test), col_means, X_test)  # Replace NaNs with mean values\n",
    "    X_test = (X_test - X_test.min()) / (X_test.max() - X_test.min())  # Normalize features\n",
    "    X_test = np.nan_to_num(X_test, nan=0)  # Ensure no NaNs remain\n",
    "\n",
    "    # Extract symbol IDs\n",
    "    symbol_ids = test.select([\"symbol_id\"]).to_numpy()\n",
    "\n",
    "    # Make predictions\n",
    "    y_pred = make_prediction([model], X_test, symbol_ids)\n",
    "\n",
    "    # Prepare the output DataFrame\n",
    "    predictions = test.select('row_id').with_columns(\n",
    "        pl.Series(\"responder_6\", y_pred)\n",
    "    )\n",
    "\n",
    "    # Ensure output format is correct\n",
    "    assert isinstance(predictions, pl.DataFrame)\n",
    "    assert predictions.columns == ['row_id', 'responder_6']\n",
    "    assert len(predictions) == len(test)\n",
    "\n",
    "    return predictions"
   ]
  },
  {
   "cell_type": "code",
   "execution_count": 21,
   "id": "c067d5b0",
   "metadata": {
    "execution": {
     "iopub.execute_input": "2024-11-24T19:38:12.483250Z",
     "iopub.status.busy": "2024-11-24T19:38:12.482738Z",
     "iopub.status.idle": "2024-11-24T19:38:13.245986Z",
     "shell.execute_reply": "2024-11-24T19:38:13.244962Z"
    },
    "papermill": {
     "duration": 0.771406,
     "end_time": "2024-11-24T19:38:13.248031",
     "exception": false,
     "start_time": "2024-11-24T19:38:12.476625",
     "status": "completed"
    },
    "tags": []
   },
   "outputs": [],
   "source": [
    "inference_server = kaggle_evaluation.jane_street_inference_server.JSInferenceServer(predict)\n",
    "\n",
    "if os.getenv('KAGGLE_IS_COMPETITION_RERUN'):\n",
    "    inference_server.serve()\n",
    "else:\n",
    "    inference_server.run_local_gateway(\n",
    "        (\n",
    "            '/kaggle/input/jane-street-real-time-market-data-forecasting/test.parquet',\n",
    "            '/kaggle/input/jane-street-real-time-market-data-forecasting/lags.parquet',\n",
    "        )\n",
    "    )"
   ]
  },
  {
   "cell_type": "code",
   "execution_count": null,
   "id": "11dfde1c",
   "metadata": {
    "papermill": {
     "duration": 0.004865,
     "end_time": "2024-11-24T19:38:13.258803",
     "exception": false,
     "start_time": "2024-11-24T19:38:13.253938",
     "status": "completed"
    },
    "tags": []
   },
   "outputs": [],
   "source": []
  }
 ],
 "metadata": {
  "kaggle": {
   "accelerator": "nvidiaTeslaT4",
   "dataSources": [
    {
     "databundleVersionId": 9871156,
     "sourceId": 84493,
     "sourceType": "competition"
    }
   ],
   "dockerImageVersionId": 30786,
   "isGpuEnabled": true,
   "isInternetEnabled": false,
   "language": "python",
   "sourceType": "notebook"
  },
  "kernelspec": {
   "display_name": "Python 3",
   "language": "python",
   "name": "python3"
  },
  "language_info": {
   "codemirror_mode": {
    "name": "ipython",
    "version": 3
   },
   "file_extension": ".py",
   "mimetype": "text/x-python",
   "name": "python",
   "nbconvert_exporter": "python",
   "pygments_lexer": "ipython3",
   "version": "3.10.14"
  },
  "papermill": {
   "default_parameters": {},
   "duration": 780.915669,
   "end_time": "2024-11-24T19:38:15.724640",
   "environment_variables": {},
   "exception": null,
   "input_path": "__notebook__.ipynb",
   "output_path": "__notebook__.ipynb",
   "parameters": {},
   "start_time": "2024-11-24T19:25:14.808971",
   "version": "2.6.0"
  }
 },
 "nbformat": 4,
 "nbformat_minor": 5
}
