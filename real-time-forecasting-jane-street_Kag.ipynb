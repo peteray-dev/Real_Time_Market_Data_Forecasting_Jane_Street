{
 "cells": [
  {
   "cell_type": "markdown",
   "id": "fe2a3342",
   "metadata": {
    "execution": {
     "iopub.execute_input": "2024-11-22T14:01:22.847061Z",
     "iopub.status.busy": "2024-11-22T14:01:22.846646Z",
     "iopub.status.idle": "2024-11-22T14:01:22.851956Z",
     "shell.execute_reply": "2024-11-22T14:01:22.850909Z",
     "shell.execute_reply.started": "2024-11-22T14:01:22.847017Z"
    },
    "papermill": {
     "duration": 0.005179,
     "end_time": "2024-11-25T13:01:04.158136",
     "exception": false,
     "start_time": "2024-11-25T13:01:04.152957",
     "status": "completed"
    },
    "tags": []
   },
   "source": [
    "## REAL TIME FORECASTING (JANE STREET)"
   ]
  },
  {
   "cell_type": "markdown",
   "id": "ef92624e",
   "metadata": {
    "papermill": {
     "duration": 0.004468,
     "end_time": "2024-11-25T13:01:04.167252",
     "exception": false,
     "start_time": "2024-11-25T13:01:04.162784",
     "status": "completed"
    },
    "tags": []
   },
   "source": [
    "The competition dataset comprises a set of timeseries with 79 features and 9 responders, anonymized but representing real market data. The goal of the competition is to forecast one of these responders, i.e., responder_6, for up to six months in the future."
   ]
  },
  {
   "cell_type": "markdown",
   "id": "14e45a93",
   "metadata": {
    "papermill": {
     "duration": 0.004127,
     "end_time": "2024-11-25T13:01:04.176003",
     "exception": false,
     "start_time": "2024-11-25T13:01:04.171876",
     "status": "completed"
    },
    "tags": []
   },
   "source": [
    "In line with the forecasting task, the competition will proceed in two phases:\r\n",
    "\r\n",
    "A model training phase with a test set of historical data. This test set has about 4.5 million ro. \n",
    "\n",
    ".\r\n",
    "A forecasting phase with a test set to be collected after submissions close. You should expect this test set to be about the same size as the test set in the first phase."
   ]
  },
  {
   "cell_type": "markdown",
   "id": "7914fa1a",
   "metadata": {
    "papermill": {
     "duration": 0.004489,
     "end_time": "2024-11-25T13:01:04.185605",
     "exception": false,
     "start_time": "2024-11-25T13:01:04.181116",
     "status": "completed"
    },
    "tags": []
   },
   "source": [
    "**train.parquet** - The training set, contains historical data and returns. For convenience, the training set has been partitioned into ten parts.\n",
    "\r",
    "* \n",
    "date_id and time_id - Integer values that are ordinally sorted, providing a chronological structure to the data, although the actual time intervals between time_id values may vary\n",
    "\n",
    ".* \r\n",
    "symbol_id - Identifies a unique financial instrumen\n",
    "  \n",
    "t* .\r\n",
    "weight - The weighting used for calculating the scoring functi\n",
    "  \n",
    "o* n.\r\n",
    "feature_{00...78} - Anonymized market d\n",
    "  \n",
    "a* ta.\r\n",
    "responder_{0...8} - Anonymized responders clipped between -5 and 5. The responder_6 field is what you are trying to predict."
   ]
  },
  {
   "cell_type": "code",
   "execution_count": 1,
   "id": "5715022a",
   "metadata": {
    "execution": {
     "iopub.execute_input": "2024-11-25T13:01:04.196607Z",
     "iopub.status.busy": "2024-11-25T13:01:04.196320Z",
     "iopub.status.idle": "2024-11-25T13:01:14.237480Z",
     "shell.execute_reply": "2024-11-25T13:01:14.236721Z"
    },
    "papermill": {
     "duration": 10.048971,
     "end_time": "2024-11-25T13:01:14.239473",
     "exception": false,
     "start_time": "2024-11-25T13:01:04.190502",
     "status": "completed"
    },
    "tags": []
   },
   "outputs": [],
   "source": [
    "import os\n",
    "import kaggle_evaluation.jane_street_inference_server\n",
    "import numpy as np\n",
    "import pandas as pd\n",
    "import polars as pl\n",
    "import seaborn as sns\n",
    "import gc\n",
    "import matplotlib.pyplot as plt \n",
    "\n",
    "import kaggle_evaluation.jane_street_inference_server\n",
    "import numpy as np\n",
    "import pickle\n",
    "import torch\n",
    "import torch.nn as nn\n",
    "import torch.optim as optim\n",
    "from torch.utils.data import Dataset, DataLoader\n",
    "from tqdm.notebook import tqdm\n",
    "from sklearn.metrics import r2_score\n",
    "from torch.cuda.amp import GradScaler, autocast\n"
   ]
  },
  {
   "cell_type": "code",
   "execution_count": 2,
   "id": "cdc518a8",
   "metadata": {
    "execution": {
     "iopub.execute_input": "2024-11-25T13:01:14.249761Z",
     "iopub.status.busy": "2024-11-25T13:01:14.249321Z",
     "iopub.status.idle": "2024-11-25T13:02:37.468738Z",
     "shell.execute_reply": "2024-11-25T13:02:37.467822Z"
    },
    "papermill": {
     "duration": 83.230558,
     "end_time": "2024-11-25T13:02:37.474642",
     "exception": false,
     "start_time": "2024-11-25T13:01:14.244084",
     "status": "completed"
    },
    "tags": []
   },
   "outputs": [
    {
     "data": {
      "text/plain": [
       "0"
      ]
     },
     "execution_count": 2,
     "metadata": {},
     "output_type": "execute_result"
    }
   ],
   "source": [
    "data = []\n",
    "for i in range(9):\n",
    "    file_path = f\"/kaggle/input/jane-street-real-time-market-data-forecasting/train.parquet/partition_id={i}/part-0.parquet\"\n",
    "    dt = pd.read_parquet(file_path)\n",
    "    data.append(dt.sample(n=500000, random_state=42))\n",
    "\n",
    "del dt\n",
    "gc.collect()\n",
    "\n",
    "df = pd.concat(data, ignore_index=True)\n",
    "df.head()\n",
    "\n",
    "del data\n",
    "gc.collect()"
   ]
  },
  {
   "cell_type": "code",
   "execution_count": 3,
   "id": "b5535046",
   "metadata": {
    "execution": {
     "iopub.execute_input": "2024-11-25T13:02:37.484834Z",
     "iopub.status.busy": "2024-11-25T13:02:37.484300Z",
     "iopub.status.idle": "2024-11-25T13:02:38.297522Z",
     "shell.execute_reply": "2024-11-25T13:02:38.296556Z"
    },
    "papermill": {
     "duration": 0.820458,
     "end_time": "2024-11-25T13:02:38.299636",
     "exception": false,
     "start_time": "2024-11-25T13:02:37.479178",
     "status": "completed"
    },
    "tags": []
   },
   "outputs": [],
   "source": [
    "features = df.filter(regex = '^feature_')\n",
    "# features = features.astype('float16')\n",
    "responders = df.filter(regex='^responder_')\n",
    "responders = responders.astype('float16')\n",
    "weights = df['weight'].astype('float16')\n",
    "time_id = df[['time_id']].astype('int16')\n",
    "symbol_id = df[['symbol_id']].astype('int16')"
   ]
  },
  {
   "cell_type": "code",
   "execution_count": 4,
   "id": "918c4bf6",
   "metadata": {
    "execution": {
     "iopub.execute_input": "2024-11-25T13:02:38.310330Z",
     "iopub.status.busy": "2024-11-25T13:02:38.309770Z",
     "iopub.status.idle": "2024-11-25T13:02:44.536776Z",
     "shell.execute_reply": "2024-11-25T13:02:44.535761Z"
    },
    "papermill": {
     "duration": 6.234566,
     "end_time": "2024-11-25T13:02:44.539006",
     "exception": false,
     "start_time": "2024-11-25T13:02:38.304440",
     "status": "completed"
    },
    "tags": []
   },
   "outputs": [
    {
     "data": {
      "text/plain": [
       "0"
      ]
     },
     "execution_count": 4,
     "metadata": {},
     "output_type": "execute_result"
    }
   ],
   "source": [
    "# features.isnull().sum()\n",
    "# replace the null values with the mean\n",
    "# from sklearn.preprocessing import StandardScaler, MinMaxScaler\n",
    "# scaler = MinMaxScaler()\n",
    "features = features.fillna(features.mean())\n",
    "features_scaled = (features - features.min()) / (features.max() - features.min())\n",
    "features = pd.DataFrame(features_scaled, columns=features.columns)\n",
    "features\n",
    "\n",
    "del features_scaled\n",
    "gc.collect()"
   ]
  },
  {
   "cell_type": "code",
   "execution_count": 5,
   "id": "cdc416e7",
   "metadata": {
    "execution": {
     "iopub.execute_input": "2024-11-25T13:02:44.554249Z",
     "iopub.status.busy": "2024-11-25T13:02:44.553951Z",
     "iopub.status.idle": "2024-11-25T13:02:44.557813Z",
     "shell.execute_reply": "2024-11-25T13:02:44.556992Z"
    },
    "papermill": {
     "duration": 0.013956,
     "end_time": "2024-11-25T13:02:44.559301",
     "exception": false,
     "start_time": "2024-11-25T13:02:44.545345",
     "status": "completed"
    },
    "tags": []
   },
   "outputs": [],
   "source": [
    "# for ft in features.columns[:3]:\n",
    "#     sns.histplot(features[ft].astype(float))\n",
    "#     plt.tight_layout();\n",
    "#     plt.show();"
   ]
  },
  {
   "cell_type": "code",
   "execution_count": 6,
   "id": "7ac26151",
   "metadata": {
    "execution": {
     "iopub.execute_input": "2024-11-25T13:02:44.575521Z",
     "iopub.status.busy": "2024-11-25T13:02:44.575156Z",
     "iopub.status.idle": "2024-11-25T13:02:48.306686Z",
     "shell.execute_reply": "2024-11-25T13:02:48.305943Z"
    },
    "papermill": {
     "duration": 3.743017,
     "end_time": "2024-11-25T13:02:48.308927",
     "exception": false,
     "start_time": "2024-11-25T13:02:44.565910",
     "status": "completed"
    },
    "tags": []
   },
   "outputs": [],
   "source": [
    "from sklearn.model_selection import train_test_split\n",
    "X_train, X_val, y_train, y_val, weights_train, weights_val = train_test_split(\n",
    "    features, responders['responder_6'], weights, test_size=0.2, random_state=42\n",
    ")"
   ]
  },
  {
   "cell_type": "code",
   "execution_count": 7,
   "id": "80012bc8",
   "metadata": {
    "execution": {
     "iopub.execute_input": "2024-11-25T13:02:48.320618Z",
     "iopub.status.busy": "2024-11-25T13:02:48.320044Z",
     "iopub.status.idle": "2024-11-25T13:02:48.325341Z",
     "shell.execute_reply": "2024-11-25T13:02:48.324482Z"
    },
    "papermill": {
     "duration": 0.013204,
     "end_time": "2024-11-25T13:02:48.327352",
     "exception": false,
     "start_time": "2024-11-25T13:02:48.314148",
     "status": "completed"
    },
    "tags": []
   },
   "outputs": [
    {
     "name": "stdout",
     "output_type": "stream",
     "text": [
      "X_train shape (3600000, 79), y_train(3600000,)\n",
      "X_val shape (900000, 79), y_val(900000,)\n",
      "weights_train shape (3600000,), weights_val(900000,)\n"
     ]
    }
   ],
   "source": [
    "print(f'X_train shape {X_train.shape}, y_train{y_train.shape}')\n",
    "print(f'X_val shape {X_val.shape}, y_val{y_val.shape}')\n",
    "print(f'weights_train shape {weights_train.shape}, weights_val{weights_val.shape}')\n"
   ]
  },
  {
   "cell_type": "code",
   "execution_count": 8,
   "id": "0be580dc",
   "metadata": {
    "execution": {
     "iopub.execute_input": "2024-11-25T13:02:48.338228Z",
     "iopub.status.busy": "2024-11-25T13:02:48.337962Z",
     "iopub.status.idle": "2024-11-25T13:02:48.341563Z",
     "shell.execute_reply": "2024-11-25T13:02:48.340863Z"
    },
    "papermill": {
     "duration": 0.011002,
     "end_time": "2024-11-25T13:02:48.343297",
     "exception": false,
     "start_time": "2024-11-25T13:02:48.332295",
     "status": "completed"
    },
    "tags": []
   },
   "outputs": [],
   "source": [
    "# unique_symbol_ids = sorted(symbol_id['symbol_id'].unique())"
   ]
  },
  {
   "cell_type": "markdown",
   "id": "020e62a2",
   "metadata": {
    "papermill": {
     "duration": 0.004528,
     "end_time": "2024-11-25T13:02:48.352421",
     "exception": false,
     "start_time": "2024-11-25T13:02:48.347893",
     "status": "completed"
    },
    "tags": []
   },
   "source": [
    "## Model"
   ]
  },
  {
   "cell_type": "code",
   "execution_count": 9,
   "id": "729e6a4f",
   "metadata": {
    "execution": {
     "iopub.execute_input": "2024-11-25T13:02:48.362781Z",
     "iopub.status.busy": "2024-11-25T13:02:48.362423Z",
     "iopub.status.idle": "2024-11-25T13:02:48.369196Z",
     "shell.execute_reply": "2024-11-25T13:02:48.368380Z"
    },
    "papermill": {
     "duration": 0.013682,
     "end_time": "2024-11-25T13:02:48.370752",
     "exception": false,
     "start_time": "2024-11-25T13:02:48.357070",
     "status": "completed"
    },
    "tags": []
   },
   "outputs": [],
   "source": [
    "symbol_id_embedding = False\n",
    "class ModelJane(nn.Module):\n",
    "    def __init__ (self, num_features, unique_symbol_ids, embedding_dim=16):\n",
    "        super().__init__()\n",
    "        input_dim = num_features + (embedding_dim if symbol_id_embedding else 0)\n",
    "        self.fc1 = nn.Linear(input_dim, 512)\n",
    "        self.fc2 = nn.Linear(512, 256)\n",
    "        self.fc3 = nn.Linear(256, 128)\n",
    "        self.fc4 = nn.Linear(128, 1)\n",
    "        self.relu = nn.ReLU()\n",
    "        if symbol_id_embedding:\n",
    "            self.embedding = nn.Embedding(len(unique_symbol_ids), embedding_dim)\n",
    "\n",
    "    def forward(self, x, symbol_ids):\n",
    "        if symbol_id_embedding:\n",
    "            symbol_embeds = self.embedding(symbol_ids).squeeze(1)\n",
    "            x = torch.cat([x, symbol_embeds], dim =1)\n",
    "\n",
    "        x = self.fc1(x)\n",
    "        x = self.relu(x)\n",
    "        x = self.fc2(x)\n",
    "        x = self.relu(x)\n",
    "        x = self.fc3(x)\n",
    "        x = self.relu(x)\n",
    "\n",
    "        return self.fc4(x)\n",
    "            "
   ]
  },
  {
   "cell_type": "code",
   "execution_count": 10,
   "id": "beb11b74",
   "metadata": {
    "execution": {
     "iopub.execute_input": "2024-11-25T13:02:48.380207Z",
     "iopub.status.busy": "2024-11-25T13:02:48.379959Z",
     "iopub.status.idle": "2024-11-25T13:02:48.406282Z",
     "shell.execute_reply": "2024-11-25T13:02:48.405461Z"
    },
    "papermill": {
     "duration": 0.032795,
     "end_time": "2024-11-25T13:02:48.407895",
     "exception": false,
     "start_time": "2024-11-25T13:02:48.375100",
     "status": "completed"
    },
    "tags": []
   },
   "outputs": [],
   "source": [
    "unique_symbol_ids = sorted(symbol_id['symbol_id'].unique())\n"
   ]
  },
  {
   "cell_type": "code",
   "execution_count": 11,
   "id": "fa1bcf9a",
   "metadata": {
    "execution": {
     "iopub.execute_input": "2024-11-25T13:02:48.418026Z",
     "iopub.status.busy": "2024-11-25T13:02:48.417376Z",
     "iopub.status.idle": "2024-11-25T13:02:48.471125Z",
     "shell.execute_reply": "2024-11-25T13:02:48.470408Z"
    },
    "papermill": {
     "duration": 0.060257,
     "end_time": "2024-11-25T13:02:48.472644",
     "exception": false,
     "start_time": "2024-11-25T13:02:48.412387",
     "status": "completed"
    },
    "tags": []
   },
   "outputs": [
    {
     "data": {
      "text/plain": [
       "ModelJane(\n",
       "  (fc1): Linear(in_features=79, out_features=512, bias=True)\n",
       "  (fc2): Linear(in_features=512, out_features=256, bias=True)\n",
       "  (fc3): Linear(in_features=256, out_features=128, bias=True)\n",
       "  (fc4): Linear(in_features=128, out_features=1, bias=True)\n",
       "  (relu): ReLU()\n",
       ")"
      ]
     },
     "execution_count": 11,
     "metadata": {},
     "output_type": "execute_result"
    }
   ],
   "source": [
    "model = ModelJane(len(features.columns), unique_symbol_ids)\n",
    "model"
   ]
  },
  {
   "cell_type": "code",
   "execution_count": 12,
   "id": "645290d8",
   "metadata": {
    "execution": {
     "iopub.execute_input": "2024-11-25T13:02:48.482507Z",
     "iopub.status.busy": "2024-11-25T13:02:48.482254Z",
     "iopub.status.idle": "2024-11-25T13:02:48.485383Z",
     "shell.execute_reply": "2024-11-25T13:02:48.484749Z"
    },
    "papermill": {
     "duration": 0.009892,
     "end_time": "2024-11-25T13:02:48.487007",
     "exception": false,
     "start_time": "2024-11-25T13:02:48.477115",
     "status": "completed"
    },
    "tags": []
   },
   "outputs": [],
   "source": [
    "# weights_train"
   ]
  },
  {
   "cell_type": "code",
   "execution_count": 13,
   "id": "4878c18b",
   "metadata": {
    "execution": {
     "iopub.execute_input": "2024-11-25T13:02:48.496974Z",
     "iopub.status.busy": "2024-11-25T13:02:48.496697Z",
     "iopub.status.idle": "2024-11-25T13:02:48.501747Z",
     "shell.execute_reply": "2024-11-25T13:02:48.501100Z"
    },
    "papermill": {
     "duration": 0.011895,
     "end_time": "2024-11-25T13:02:48.503341",
     "exception": false,
     "start_time": "2024-11-25T13:02:48.491446",
     "status": "completed"
    },
    "tags": []
   },
   "outputs": [],
   "source": [
    "\n",
    "class CustomDataset(Dataset):\n",
    "    def __init__(self, features, targets, weights=None):\n",
    "        self.features = torch.tensor(features.values, dtype=torch.float32)\n",
    "        self.targets = torch.tensor(targets.values, dtype=torch.float32)\n",
    "        self.weights = torch.tensor(weights.values, dtype=torch.float32) if weights is not None else None\n",
    "\n",
    "    def __len__(self):\n",
    "        return len(self.targets)\n",
    "\n",
    "    def __getitem__(self, idx):\n",
    "        x = self.features[idx]\n",
    "        y = self.targets[idx]\n",
    "        w = self.weights[idx] if self.weights is not None else 1.0\n",
    "        return x, y, w\n"
   ]
  },
  {
   "cell_type": "code",
   "execution_count": 14,
   "id": "e3fca4b0",
   "metadata": {
    "execution": {
     "iopub.execute_input": "2024-11-25T13:02:48.513343Z",
     "iopub.status.busy": "2024-11-25T13:02:48.513074Z",
     "iopub.status.idle": "2024-11-25T13:02:49.314883Z",
     "shell.execute_reply": "2024-11-25T13:02:49.314094Z"
    },
    "papermill": {
     "duration": 0.809191,
     "end_time": "2024-11-25T13:02:49.317023",
     "exception": false,
     "start_time": "2024-11-25T13:02:48.507832",
     "status": "completed"
    },
    "tags": []
   },
   "outputs": [],
   "source": [
    "batch_size = 4096\n",
    "\n",
    "# Prepare training and validation datasets\n",
    "train_dataset = CustomDataset(X_train, y_train, weights_train)\n",
    "val_dataset = CustomDataset(X_val, y_val, weights_val)\n",
    "\n",
    "# Create DataLoaders\n",
    "train_loader = DataLoader(train_dataset, batch_size=batch_size, shuffle=True)\n",
    "val_loader = DataLoader(val_dataset, batch_size=batch_size, shuffle=False)\n"
   ]
  },
  {
   "cell_type": "code",
   "execution_count": 15,
   "id": "fd7659ee",
   "metadata": {
    "execution": {
     "iopub.execute_input": "2024-11-25T13:02:49.328108Z",
     "iopub.status.busy": "2024-11-25T13:02:49.327855Z",
     "iopub.status.idle": "2024-11-25T13:02:49.436065Z",
     "shell.execute_reply": "2024-11-25T13:02:49.435227Z"
    },
    "papermill": {
     "duration": 0.11549,
     "end_time": "2024-11-25T13:02:49.437843",
     "exception": false,
     "start_time": "2024-11-25T13:02:49.322353",
     "status": "completed"
    },
    "tags": []
   },
   "outputs": [
    {
     "name": "stdout",
     "output_type": "stream",
     "text": [
      "True\n",
      "12.3\n"
     ]
    }
   ],
   "source": [
    "print(torch.cuda.is_available())  # Should return True if CUDA is available\n",
    "print(torch.version.cuda)"
   ]
  },
  {
   "cell_type": "code",
   "execution_count": 16,
   "id": "55977e5e",
   "metadata": {
    "execution": {
     "iopub.execute_input": "2024-11-25T13:02:49.448688Z",
     "iopub.status.busy": "2024-11-25T13:02:49.447960Z",
     "iopub.status.idle": "2024-11-25T13:02:49.452867Z",
     "shell.execute_reply": "2024-11-25T13:02:49.452152Z"
    },
    "papermill": {
     "duration": 0.011921,
     "end_time": "2024-11-25T13:02:49.454453",
     "exception": false,
     "start_time": "2024-11-25T13:02:49.442532",
     "status": "completed"
    },
    "tags": []
   },
   "outputs": [],
   "source": [
    "# Weighted R2 Scoring function\n",
    "def weighted_r2_score(y_true, y_pred, weights):\n",
    "    # Calculate the weighted residual sum of squares\n",
    "    residual_sum_of_squares = torch.sum(weights * (y_true - y_pred) ** 2)\n",
    "    \n",
    "    # Calculate the weighted total sum of squares\n",
    "    total_sum_of_squares = torch.sum(weights * y_true ** 2)\n",
    "    \n",
    "    # Calculate weighted R2 score\n",
    "    r2_score = 1 - (residual_sum_of_squares / total_sum_of_squares)\n",
    "    \n",
    "    return r2_score.item()  # Return as a scalar value\n"
   ]
  },
  {
   "cell_type": "code",
   "execution_count": 17,
   "id": "97b72887",
   "metadata": {
    "execution": {
     "iopub.execute_input": "2024-11-25T13:02:49.464826Z",
     "iopub.status.busy": "2024-11-25T13:02:49.464533Z",
     "iopub.status.idle": "2024-11-25T13:13:27.511048Z",
     "shell.execute_reply": "2024-11-25T13:13:27.510292Z"
    },
    "papermill": {
     "duration": 638.059887,
     "end_time": "2024-11-25T13:13:27.518893",
     "exception": false,
     "start_time": "2024-11-25T13:02:49.459006",
     "status": "completed"
    },
    "tags": []
   },
   "outputs": [
    {
     "name": "stdout",
     "output_type": "stream",
     "text": [
      "Epoch 1/8,Train Loss: 1.4264590751053394, Validation Loss: 1.420453292131424, Validation R2 Score: 0.003191583535887978\n",
      "Epoch 2/8,Train Loss: 1.4242944153231294, Validation Loss: 1.4183986008167266, Validation R2 Score: 0.004627935181964527\n",
      "Epoch 3/8,Train Loss: 1.4227065119184596, Validation Loss: 1.4181869349696419, Validation R2 Score: 0.004735570062290539\n",
      "Epoch 4/8,Train Loss: 1.420688934158004, Validation Loss: 1.416434978355061, Validation R2 Score: 0.005987708947875283\n",
      "Epoch 5/8,Train Loss: 1.4195226021322918, Validation Loss: 1.4156446754932404, Validation R2 Score: 0.006521825898777355\n",
      "Epoch 6/8,Train Loss: 1.4190106756722425, Validation Loss: 1.4155441923574967, Validation R2 Score: 0.006605174595659429\n",
      "Epoch 7/8,Train Loss: 1.4180587245335758, Validation Loss: 1.413591415231878, Validation R2 Score: 0.007971667430617592\n",
      "Epoch 8/8,Train Loss: 1.4173605116561003, Validation Loss: 1.414643767747012, Validation R2 Score: 0.007246653600172563\n"
     ]
    }
   ],
   "source": [
    " # Initialize model, loss, and optimizer\n",
    "device = torch.device('cuda' if torch.cuda.is_available() else 'cpu')\n",
    "num_features = X_train.shape[1]\n",
    "unique_symbol_ids = unique_symbol_ids  # Update with actual unique symbol IDs if used\n",
    "model = ModelJane(num_features, unique_symbol_ids).to(device)\n",
    "\n",
    "criterion = nn.MSELoss(reduction='none')  # Use reduction='none' for weighted loss\n",
    "optimizer = optim.Adam(model.parameters(), lr=1e-3)\n",
    "\n",
    "# Initialize best validation loss\n",
    "best_val_loss = float('inf')\n",
    "\n",
    "# Training loop\n",
    "epochs = 8\n",
    "for epoch in range(epochs):\n",
    "    model.train()\n",
    "    train_loss = 0.0\n",
    "    for X_batch, y_batch, w_batch in train_loader:\n",
    "        X_batch, y_batch, w_batch = X_batch.to(device), y_batch.to(device), w_batch.to(device)\n",
    "\n",
    "        # Forward pass\n",
    "        predictions = model(X_batch, None).squeeze(1)  # Adjust based on model output\n",
    "        loss = criterion(predictions, y_batch)\n",
    "        weighted_loss = (loss * w_batch).mean()  # Weighted loss\n",
    "\n",
    "        # Backward pass\n",
    "        optimizer.zero_grad()\n",
    "        weighted_loss.backward()\n",
    "        optimizer.step()\n",
    "\n",
    "        train_loss += weighted_loss.item()\n",
    "\n",
    "    # print(f\"Epoch {epoch + 1}/{epochs}, \")\n",
    "\n",
    "    # Validation loop\n",
    "    model.eval()\n",
    "    val_loss = 0.0\n",
    "    val_r2_score = 0.0\n",
    "    with torch.no_grad():\n",
    "        for X_batch, y_batch, w_batch in val_loader:\n",
    "            X_batch, y_batch, w_batch = X_batch.to(device), y_batch.to(device), w_batch.to(device)\n",
    "\n",
    "            predictions = model(X_batch, None).squeeze(1)\n",
    "            loss = criterion(predictions, y_batch)\n",
    "            weighted_loss = (loss * w_batch).mean()\n",
    "\n",
    "            val_loss += weighted_loss.item()\n",
    "\n",
    "            # Compute the weighted R2 score for the current batch\n",
    "            r2 = weighted_r2_score(y_batch, predictions, w_batch)\n",
    "            val_r2_score += r2\n",
    "\n",
    "    # Average validation loss and R2 score across all batches\n",
    "    val_loss_avg = val_loss / len(val_loader)\n",
    "    val_r2_score_avg = val_r2_score / len(val_loader)\n",
    "\n",
    "    print(f\"Epoch {epoch + 1}/{epochs},Train Loss: {train_loss / len(train_loader)}, Validation Loss: {val_loss_avg}, Validation R2 Score: {val_r2_score_avg}\")\n",
    "\n",
    "    # Save the best model based on validation loss\n",
    "    if val_loss < best_val_loss:\n",
    "        best_val_loss = val_loss\n",
    "        # Save the model state_dict\n",
    "        torch.save(model.state_dict(), 'best_model.pth')\n",
    "        # print(f\"Best model saved at Epoch {epoch + 1} with Validation Loss: {val_loss_avg}\")\n"
   ]
  },
  {
   "cell_type": "code",
   "execution_count": 18,
   "id": "b7e81e48",
   "metadata": {
    "execution": {
     "iopub.execute_input": "2024-11-25T13:13:27.530698Z",
     "iopub.status.busy": "2024-11-25T13:13:27.530283Z",
     "iopub.status.idle": "2024-11-25T13:13:27.541876Z",
     "shell.execute_reply": "2024-11-25T13:13:27.540967Z"
    },
    "papermill": {
     "duration": 0.01999,
     "end_time": "2024-11-25T13:13:27.544091",
     "exception": false,
     "start_time": "2024-11-25T13:13:27.524101",
     "status": "completed"
    },
    "tags": []
   },
   "outputs": [
    {
     "data": {
      "text/plain": [
       "ModelJane(\n",
       "  (fc1): Linear(in_features=79, out_features=512, bias=True)\n",
       "  (fc2): Linear(in_features=512, out_features=256, bias=True)\n",
       "  (fc3): Linear(in_features=256, out_features=128, bias=True)\n",
       "  (fc4): Linear(in_features=128, out_features=1, bias=True)\n",
       "  (relu): ReLU()\n",
       ")"
      ]
     },
     "execution_count": 18,
     "metadata": {},
     "output_type": "execute_result"
    }
   ],
   "source": [
    "model.load_state_dict(torch.load('best_model.pth', map_location=device, weights_only=True))\n",
    "model.eval()"
   ]
  },
  {
   "cell_type": "code",
   "execution_count": 19,
   "id": "c2d9634c",
   "metadata": {
    "execution": {
     "iopub.execute_input": "2024-11-25T13:13:27.555527Z",
     "iopub.status.busy": "2024-11-25T13:13:27.555301Z",
     "iopub.status.idle": "2024-11-25T13:13:27.560139Z",
     "shell.execute_reply": "2024-11-25T13:13:27.559358Z"
    },
    "papermill": {
     "duration": 0.012366,
     "end_time": "2024-11-25T13:13:27.561666",
     "exception": false,
     "start_time": "2024-11-25T13:13:27.549300",
     "status": "completed"
    },
    "tags": []
   },
   "outputs": [],
   "source": [
    "def make_prediction(models, X, symbol_ids):\n",
    "    \"\"\"Generate predictions by averaging across all models.\"\"\"\n",
    "    y_preds = []\n",
    "    with torch.no_grad():\n",
    "        for model in models:\n",
    "            # Convert inputs to torch tensors\n",
    "            X_tensor = torch.tensor(X, dtype=torch.float32).to(device)\n",
    "            symbol_ids_tensor = torch.tensor(symbol_ids, dtype=torch.int).to(device)\n",
    "            # Predict and store results\n",
    "            y_pred = model(X_tensor, symbol_ids_tensor).squeeze(1)\n",
    "            y_preds.append(y_pred.cpu().numpy())\n",
    "    return np.mean(y_preds, axis=0)  # Ensemble by averaging predictions\n"
   ]
  },
  {
   "cell_type": "code",
   "execution_count": 20,
   "id": "f7501b16",
   "metadata": {
    "execution": {
     "iopub.execute_input": "2024-11-25T13:13:27.572263Z",
     "iopub.status.busy": "2024-11-25T13:13:27.572037Z",
     "iopub.status.idle": "2024-11-25T13:13:27.578268Z",
     "shell.execute_reply": "2024-11-25T13:13:27.577617Z"
    },
    "papermill": {
     "duration": 0.013276,
     "end_time": "2024-11-25T13:13:27.579806",
     "exception": false,
     "start_time": "2024-11-25T13:13:27.566530",
     "status": "completed"
    },
    "tags": []
   },
   "outputs": [],
   "source": [
    "lags_ : pl.DataFrame | None = None\n",
    "\n",
    "\n",
    "def predict(test: pl.DataFrame, lags: pl.DataFrame | None) -> pl.DataFrame | pd.DataFrame:\n",
    "    \"\"\"Make a prediction.\"\"\"\n",
    "    # All the responders from the previous day are passed in at time_id == 0. We save them in a global variable for access at every time_id.\n",
    "    # Use them as extra features, if you like.\n",
    "    global lags_\n",
    "    if lags is not None:\n",
    "        lags_ = lags\n",
    "\n",
    "    X_test = test.select(features.columns).to_numpy()\n",
    "    col_means = features.mean().values \n",
    "    X_test = np.where(np.isnan(X_test), col_means, X_test)  # Replace NaNs with mean values\n",
    "    X_test = (X_test - X_test.min()) / (X_test.max() - X_test.min())  # Normalize features\n",
    "    X_test = np.nan_to_num(X_test, nan=0)  # Ensure no NaNs remain\n",
    "\n",
    "    # Extract symbol IDs\n",
    "    symbol_ids = test.select([\"symbol_id\"]).to_numpy()\n",
    "\n",
    "    # Make predictions\n",
    "    y_pred = make_prediction([model], X_test, symbol_ids)\n",
    "\n",
    "    # Prepare the output DataFrame\n",
    "    predictions = test.select('row_id').with_columns(\n",
    "        pl.Series(\"responder_6\", y_pred)\n",
    "    )\n",
    "\n",
    "    # Ensure output format is correct\n",
    "    assert isinstance(predictions, pl.DataFrame)\n",
    "    assert predictions.columns == ['row_id', 'responder_6']\n",
    "    assert len(predictions) == len(test)\n",
    "\n",
    "    return predictions"
   ]
  },
  {
   "cell_type": "code",
   "execution_count": 21,
   "id": "004ecf72",
   "metadata": {
    "execution": {
     "iopub.execute_input": "2024-11-25T13:13:27.590074Z",
     "iopub.status.busy": "2024-11-25T13:13:27.589855Z",
     "iopub.status.idle": "2024-11-25T13:13:28.803495Z",
     "shell.execute_reply": "2024-11-25T13:13:28.802766Z"
    },
    "papermill": {
     "duration": 1.221129,
     "end_time": "2024-11-25T13:13:28.805630",
     "exception": false,
     "start_time": "2024-11-25T13:13:27.584501",
     "status": "completed"
    },
    "tags": []
   },
   "outputs": [],
   "source": [
    "inference_server = kaggle_evaluation.jane_street_inference_server.JSInferenceServer(predict)\n",
    "\n",
    "if os.getenv('KAGGLE_IS_COMPETITION_RERUN'):\n",
    "    inference_server.serve()\n",
    "else:\n",
    "    inference_server.run_local_gateway(\n",
    "        (\n",
    "            '/kaggle/input/jane-street-real-time-market-data-forecasting/test.parquet',\n",
    "            '/kaggle/input/jane-street-real-time-market-data-forecasting/lags.parquet',\n",
    "        )\n",
    "    )"
   ]
  },
  {
   "cell_type": "code",
   "execution_count": null,
   "id": "938ab471",
   "metadata": {
    "papermill": {
     "duration": 0.004896,
     "end_time": "2024-11-25T13:13:28.815785",
     "exception": false,
     "start_time": "2024-11-25T13:13:28.810889",
     "status": "completed"
    },
    "tags": []
   },
   "outputs": [],
   "source": []
  }
 ],
 "metadata": {
  "kaggle": {
   "accelerator": "nvidiaTeslaT4",
   "dataSources": [
    {
     "databundleVersionId": 9871156,
     "sourceId": 84493,
     "sourceType": "competition"
    }
   ],
   "dockerImageVersionId": 30786,
   "isGpuEnabled": true,
   "isInternetEnabled": false,
   "language": "python",
   "sourceType": "notebook"
  },
  "kernelspec": {
   "display_name": "Python 3",
   "language": "python",
   "name": "python3"
  },
  "language_info": {
   "codemirror_mode": {
    "name": "ipython",
    "version": 3
   },
   "file_extension": ".py",
   "mimetype": "text/x-python",
   "name": "python",
   "nbconvert_exporter": "python",
   "pygments_lexer": "ipython3",
   "version": "3.10.14"
  },
  "papermill": {
   "default_parameters": {},
   "duration": 751.472218,
   "end_time": "2024-11-25T13:13:32.079161",
   "environment_variables": {},
   "exception": null,
   "input_path": "__notebook__.ipynb",
   "output_path": "__notebook__.ipynb",
   "parameters": {},
   "start_time": "2024-11-25T13:01:00.606943",
   "version": "2.6.0"
  }
 },
 "nbformat": 4,
 "nbformat_minor": 5
}
