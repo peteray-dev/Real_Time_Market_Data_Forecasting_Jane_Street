{
 "cells": [
  {
   "cell_type": "markdown",
   "id": "449a5cd7",
   "metadata": {
    "execution": {
     "iopub.execute_input": "2024-11-22T14:01:22.847061Z",
     "iopub.status.busy": "2024-11-22T14:01:22.846646Z",
     "iopub.status.idle": "2024-11-22T14:01:22.851956Z",
     "shell.execute_reply": "2024-11-22T14:01:22.850909Z",
     "shell.execute_reply.started": "2024-11-22T14:01:22.847017Z"
    },
    "papermill": {
     "duration": 0.005162,
     "end_time": "2024-11-24T18:23:20.156450",
     "exception": false,
     "start_time": "2024-11-24T18:23:20.151288",
     "status": "completed"
    },
    "tags": []
   },
   "source": [
    "## REAL TIME FORECASTING (JANE STREET)"
   ]
  },
  {
   "cell_type": "markdown",
   "id": "d46b6c05",
   "metadata": {
    "papermill": {
     "duration": 0.004534,
     "end_time": "2024-11-24T18:23:20.166259",
     "exception": false,
     "start_time": "2024-11-24T18:23:20.161725",
     "status": "completed"
    },
    "tags": []
   },
   "source": [
    "The competition dataset comprises a set of timeseries with 79 features and 9 responders, anonymized but representing real market data. The goal of the competition is to forecast one of these responders, i.e., responder_6, for up to six months in the future."
   ]
  },
  {
   "cell_type": "markdown",
   "id": "30273a0d",
   "metadata": {
    "papermill": {
     "duration": 0.00427,
     "end_time": "2024-11-24T18:23:20.174851",
     "exception": false,
     "start_time": "2024-11-24T18:23:20.170581",
     "status": "completed"
    },
    "tags": []
   },
   "source": [
    "In line with the forecasting task, the competition will proceed in two phases:\r\n",
    "\r\n",
    "A model training phase with a test set of historical data. This test set has about 4.5 million ro. \n",
    "\n",
    ".\r\n",
    "A forecasting phase with a test set to be collected after submissions close. You should expect this test set to be about the same size as the test set in the first phase."
   ]
  },
  {
   "cell_type": "markdown",
   "id": "0b0cd5d0",
   "metadata": {
    "papermill": {
     "duration": 0.003975,
     "end_time": "2024-11-24T18:23:20.184177",
     "exception": false,
     "start_time": "2024-11-24T18:23:20.180202",
     "status": "completed"
    },
    "tags": []
   },
   "source": [
    "**train.parquet** - The training set, contains historical data and returns. For convenience, the training set has been partitioned into ten parts.\n",
    "\r",
    "* \n",
    "date_id and time_id - Integer values that are ordinally sorted, providing a chronological structure to the data, although the actual time intervals between time_id values may vary\n",
    "\n",
    ".* \r\n",
    "symbol_id - Identifies a unique financial instrumen\n",
    "  \n",
    "t* .\r\n",
    "weight - The weighting used for calculating the scoring functi\n",
    "  \n",
    "o* n.\r\n",
    "feature_{00...78} - Anonymized market d\n",
    "  \n",
    "a* ta.\r\n",
    "responder_{0...8} - Anonymized responders clipped between -5 and 5. The responder_6 field is what you are trying to predict."
   ]
  },
  {
   "cell_type": "code",
   "execution_count": 1,
   "id": "6ec6f793",
   "metadata": {
    "execution": {
     "iopub.execute_input": "2024-11-24T18:23:20.194781Z",
     "iopub.status.busy": "2024-11-24T18:23:20.193990Z",
     "iopub.status.idle": "2024-11-24T18:23:25.817729Z",
     "shell.execute_reply": "2024-11-24T18:23:25.817060Z"
    },
    "papermill": {
     "duration": 5.631521,
     "end_time": "2024-11-24T18:23:25.819779",
     "exception": false,
     "start_time": "2024-11-24T18:23:20.188258",
     "status": "completed"
    },
    "tags": []
   },
   "outputs": [],
   "source": [
    "import os\n",
    "import kaggle_evaluation.jane_street_inference_server\n",
    "import numpy as np\n",
    "import pandas as pd\n",
    "import polars as pl\n",
    "import seaborn as sns\n",
    "import gc\n",
    "import matplotlib.pyplot as plt \n",
    "\n",
    "import kaggle_evaluation.jane_street_inference_server\n",
    "import numpy as np\n",
    "import pickle\n",
    "import torch\n",
    "import torch.nn as nn\n",
    "import torch.optim as optim\n",
    "from torch.utils.data import Dataset, DataLoader\n",
    "from tqdm.notebook import tqdm\n",
    "from sklearn.metrics import r2_score\n",
    "from torch.cuda.amp import GradScaler, autocast\n"
   ]
  },
  {
   "cell_type": "code",
   "execution_count": 2,
   "id": "01d07e7c",
   "metadata": {
    "execution": {
     "iopub.execute_input": "2024-11-24T18:23:25.832100Z",
     "iopub.status.busy": "2024-11-24T18:23:25.831655Z",
     "iopub.status.idle": "2024-11-24T18:24:39.129202Z",
     "shell.execute_reply": "2024-11-24T18:24:39.128243Z"
    },
    "papermill": {
     "duration": 73.309795,
     "end_time": "2024-11-24T18:24:39.135432",
     "exception": false,
     "start_time": "2024-11-24T18:23:25.825637",
     "status": "completed"
    },
    "tags": []
   },
   "outputs": [
    {
     "data": {
      "text/plain": [
       "0"
      ]
     },
     "execution_count": 2,
     "metadata": {},
     "output_type": "execute_result"
    }
   ],
   "source": [
    "data = []\n",
    "for i in range(9):\n",
    "    file_path = f\"/kaggle/input/jane-street-real-time-market-data-forecasting/train.parquet/partition_id={i}/part-0.parquet\"\n",
    "    dt = pd.read_parquet(file_path)\n",
    "    data.append(dt.sample(n=500000, random_state=42))\n",
    "\n",
    "del dt\n",
    "gc.collect()\n",
    "\n",
    "df = pd.concat(data, ignore_index=True)\n",
    "df.head()\n",
    "\n",
    "del data\n",
    "gc.collect()"
   ]
  },
  {
   "cell_type": "code",
   "execution_count": 3,
   "id": "16896ece",
   "metadata": {
    "execution": {
     "iopub.execute_input": "2024-11-24T18:24:39.145546Z",
     "iopub.status.busy": "2024-11-24T18:24:39.145260Z",
     "iopub.status.idle": "2024-11-24T18:24:39.987882Z",
     "shell.execute_reply": "2024-11-24T18:24:39.987214Z"
    },
    "papermill": {
     "duration": 0.849667,
     "end_time": "2024-11-24T18:24:39.989912",
     "exception": false,
     "start_time": "2024-11-24T18:24:39.140245",
     "status": "completed"
    },
    "tags": []
   },
   "outputs": [],
   "source": [
    "features = df.filter(regex = '^feature_')\n",
    "# features = features.astype('float16')\n",
    "responders = df.filter(regex='^responder_')\n",
    "responders = responders.astype('float16')\n",
    "weights = df['weight'].astype('float16')\n",
    "time_id = df[['time_id']].astype('int16')\n",
    "symbol_id = df[['symbol_id']].astype('int16')"
   ]
  },
  {
   "cell_type": "code",
   "execution_count": 4,
   "id": "db199307",
   "metadata": {
    "execution": {
     "iopub.execute_input": "2024-11-24T18:24:40.000543Z",
     "iopub.status.busy": "2024-11-24T18:24:40.000261Z",
     "iopub.status.idle": "2024-11-24T18:24:46.343285Z",
     "shell.execute_reply": "2024-11-24T18:24:46.342249Z"
    },
    "papermill": {
     "duration": 6.350344,
     "end_time": "2024-11-24T18:24:46.345103",
     "exception": false,
     "start_time": "2024-11-24T18:24:39.994759",
     "status": "completed"
    },
    "tags": []
   },
   "outputs": [
    {
     "data": {
      "text/plain": [
       "0"
      ]
     },
     "execution_count": 4,
     "metadata": {},
     "output_type": "execute_result"
    }
   ],
   "source": [
    "# features.isnull().sum()\n",
    "# replace the null values with the mean\n",
    "# from sklearn.preprocessing import StandardScaler, MinMaxScaler\n",
    "# scaler = MinMaxScaler()\n",
    "features = features.fillna(features.mean())\n",
    "features_scaled = (features - features.min()) / (features.max() - features.min())\n",
    "features = pd.DataFrame(features_scaled, columns=features.columns)\n",
    "features\n",
    "\n",
    "del features_scaled\n",
    "gc.collect()"
   ]
  },
  {
   "cell_type": "code",
   "execution_count": 5,
   "id": "d34ee9c4",
   "metadata": {
    "execution": {
     "iopub.execute_input": "2024-11-24T18:24:46.361293Z",
     "iopub.status.busy": "2024-11-24T18:24:46.360893Z",
     "iopub.status.idle": "2024-11-24T18:24:46.364747Z",
     "shell.execute_reply": "2024-11-24T18:24:46.363952Z"
    },
    "papermill": {
     "duration": 0.015406,
     "end_time": "2024-11-24T18:24:46.367077",
     "exception": false,
     "start_time": "2024-11-24T18:24:46.351671",
     "status": "completed"
    },
    "tags": []
   },
   "outputs": [],
   "source": [
    "# for ft in features.columns[:3]:\n",
    "#     sns.histplot(features[ft].astype(float))\n",
    "#     plt.tight_layout();\n",
    "#     plt.show();"
   ]
  },
  {
   "cell_type": "code",
   "execution_count": 6,
   "id": "136910ca",
   "metadata": {
    "execution": {
     "iopub.execute_input": "2024-11-24T18:24:46.384309Z",
     "iopub.status.busy": "2024-11-24T18:24:46.384038Z",
     "iopub.status.idle": "2024-11-24T18:24:50.371891Z",
     "shell.execute_reply": "2024-11-24T18:24:50.371156Z"
    },
    "papermill": {
     "duration": 3.998777,
     "end_time": "2024-11-24T18:24:50.374054",
     "exception": false,
     "start_time": "2024-11-24T18:24:46.375277",
     "status": "completed"
    },
    "tags": []
   },
   "outputs": [],
   "source": [
    "from sklearn.model_selection import train_test_split\n",
    "X_train, X_val, y_train, y_val, weights_train, weights_val = train_test_split(\n",
    "    features, responders['responder_6'], weights, test_size=0.2, random_state=42\n",
    ")"
   ]
  },
  {
   "cell_type": "code",
   "execution_count": 7,
   "id": "01820aff",
   "metadata": {
    "execution": {
     "iopub.execute_input": "2024-11-24T18:24:50.385001Z",
     "iopub.status.busy": "2024-11-24T18:24:50.384686Z",
     "iopub.status.idle": "2024-11-24T18:24:50.390231Z",
     "shell.execute_reply": "2024-11-24T18:24:50.389197Z"
    },
    "papermill": {
     "duration": 0.012952,
     "end_time": "2024-11-24T18:24:50.391882",
     "exception": false,
     "start_time": "2024-11-24T18:24:50.378930",
     "status": "completed"
    },
    "tags": []
   },
   "outputs": [
    {
     "name": "stdout",
     "output_type": "stream",
     "text": [
      "X_train shape (3600000, 79), y_train(3600000,)\n",
      "X_val shape (900000, 79), y_val(900000,)\n",
      "weights_train shape (3600000,), weights_val(900000,)\n"
     ]
    }
   ],
   "source": [
    "print(f'X_train shape {X_train.shape}, y_train{y_train.shape}')\n",
    "print(f'X_val shape {X_val.shape}, y_val{y_val.shape}')\n",
    "print(f'weights_train shape {weights_train.shape}, weights_val{weights_val.shape}')\n"
   ]
  },
  {
   "cell_type": "code",
   "execution_count": 8,
   "id": "8b021f54",
   "metadata": {
    "execution": {
     "iopub.execute_input": "2024-11-24T18:24:50.402177Z",
     "iopub.status.busy": "2024-11-24T18:24:50.401438Z",
     "iopub.status.idle": "2024-11-24T18:24:50.405238Z",
     "shell.execute_reply": "2024-11-24T18:24:50.404428Z"
    },
    "papermill": {
     "duration": 0.010391,
     "end_time": "2024-11-24T18:24:50.406713",
     "exception": false,
     "start_time": "2024-11-24T18:24:50.396322",
     "status": "completed"
    },
    "tags": []
   },
   "outputs": [],
   "source": [
    "# unique_symbol_ids = sorted(symbol_id['symbol_id'].unique())"
   ]
  },
  {
   "cell_type": "markdown",
   "id": "78712407",
   "metadata": {
    "papermill": {
     "duration": 0.004147,
     "end_time": "2024-11-24T18:24:50.415540",
     "exception": false,
     "start_time": "2024-11-24T18:24:50.411393",
     "status": "completed"
    },
    "tags": []
   },
   "source": [
    "## Model"
   ]
  },
  {
   "cell_type": "code",
   "execution_count": 9,
   "id": "052ad756",
   "metadata": {
    "execution": {
     "iopub.execute_input": "2024-11-24T18:24:50.425851Z",
     "iopub.status.busy": "2024-11-24T18:24:50.425345Z",
     "iopub.status.idle": "2024-11-24T18:24:50.431806Z",
     "shell.execute_reply": "2024-11-24T18:24:50.431135Z"
    },
    "papermill": {
     "duration": 0.013344,
     "end_time": "2024-11-24T18:24:50.433464",
     "exception": false,
     "start_time": "2024-11-24T18:24:50.420120",
     "status": "completed"
    },
    "tags": []
   },
   "outputs": [],
   "source": [
    "symbol_id_embedding = False\n",
    "class ModelJane(nn.Module):\n",
    "    def __init__ (self, num_features, unique_symbol_ids, embedding_dim=16):\n",
    "        super().__init__()\n",
    "        input_dim = num_features + (embedding_dim if symbol_id_embedding else 0)\n",
    "        self.fc1 = nn.Linear(input_dim, 512)\n",
    "        self.fc2 = nn.Linear(512, 256)\n",
    "        self.fc3 = nn.Linear(256, 128)\n",
    "        self.fc4 = nn.Linear(128, 1)\n",
    "        self.relu = nn.ReLU()\n",
    "        if symbol_id_embedding:\n",
    "            self.embedding = nn.Embedding(len(unique_symbol_ids), embedding_dim)\n",
    "\n",
    "    def forward(self, x, symbol_ids):\n",
    "        if symbol_id_embedding:\n",
    "            symbol_embeds = self.embedding(symbol_ids).squeeze(1)\n",
    "            x = torch.cat([x, symbol_embeds], dim =1)\n",
    "\n",
    "        x = self.fc1(x)\n",
    "        x = self.relu(x)\n",
    "        x = self.fc2(x)\n",
    "        x = self.relu(x)\n",
    "        x = self.fc3(x)\n",
    "        x = self.relu(x)\n",
    "\n",
    "        return self.fc4(x)\n",
    "            "
   ]
  },
  {
   "cell_type": "code",
   "execution_count": 10,
   "id": "890be709",
   "metadata": {
    "execution": {
     "iopub.execute_input": "2024-11-24T18:24:50.443307Z",
     "iopub.status.busy": "2024-11-24T18:24:50.442829Z",
     "iopub.status.idle": "2024-11-24T18:24:50.469423Z",
     "shell.execute_reply": "2024-11-24T18:24:50.468578Z"
    },
    "papermill": {
     "duration": 0.033445,
     "end_time": "2024-11-24T18:24:50.471233",
     "exception": false,
     "start_time": "2024-11-24T18:24:50.437788",
     "status": "completed"
    },
    "tags": []
   },
   "outputs": [],
   "source": [
    "unique_symbol_ids = sorted(symbol_id['symbol_id'].unique())\n"
   ]
  },
  {
   "cell_type": "code",
   "execution_count": 11,
   "id": "a70c7c55",
   "metadata": {
    "execution": {
     "iopub.execute_input": "2024-11-24T18:24:50.481240Z",
     "iopub.status.busy": "2024-11-24T18:24:50.480969Z",
     "iopub.status.idle": "2024-11-24T18:24:50.509690Z",
     "shell.execute_reply": "2024-11-24T18:24:50.508953Z"
    },
    "papermill": {
     "duration": 0.035793,
     "end_time": "2024-11-24T18:24:50.511686",
     "exception": false,
     "start_time": "2024-11-24T18:24:50.475893",
     "status": "completed"
    },
    "tags": []
   },
   "outputs": [
    {
     "data": {
      "text/plain": [
       "ModelJane(\n",
       "  (fc1): Linear(in_features=79, out_features=512, bias=True)\n",
       "  (fc2): Linear(in_features=512, out_features=256, bias=True)\n",
       "  (fc3): Linear(in_features=256, out_features=128, bias=True)\n",
       "  (fc4): Linear(in_features=128, out_features=1, bias=True)\n",
       "  (relu): ReLU()\n",
       ")"
      ]
     },
     "execution_count": 11,
     "metadata": {},
     "output_type": "execute_result"
    }
   ],
   "source": [
    "model = ModelJane(len(features.columns), unique_symbol_ids)\n",
    "model"
   ]
  },
  {
   "cell_type": "code",
   "execution_count": 12,
   "id": "78300065",
   "metadata": {
    "execution": {
     "iopub.execute_input": "2024-11-24T18:24:50.522394Z",
     "iopub.status.busy": "2024-11-24T18:24:50.522120Z",
     "iopub.status.idle": "2024-11-24T18:24:50.525708Z",
     "shell.execute_reply": "2024-11-24T18:24:50.524886Z"
    },
    "papermill": {
     "duration": 0.011085,
     "end_time": "2024-11-24T18:24:50.527506",
     "exception": false,
     "start_time": "2024-11-24T18:24:50.516421",
     "status": "completed"
    },
    "tags": []
   },
   "outputs": [],
   "source": [
    "# weights_train"
   ]
  },
  {
   "cell_type": "code",
   "execution_count": 13,
   "id": "a7d6800e",
   "metadata": {
    "execution": {
     "iopub.execute_input": "2024-11-24T18:24:50.538434Z",
     "iopub.status.busy": "2024-11-24T18:24:50.537681Z",
     "iopub.status.idle": "2024-11-24T18:24:50.543433Z",
     "shell.execute_reply": "2024-11-24T18:24:50.542626Z"
    },
    "papermill": {
     "duration": 0.012729,
     "end_time": "2024-11-24T18:24:50.545067",
     "exception": false,
     "start_time": "2024-11-24T18:24:50.532338",
     "status": "completed"
    },
    "tags": []
   },
   "outputs": [],
   "source": [
    "\n",
    "class CustomDataset(Dataset):\n",
    "    def __init__(self, features, targets, weights=None):\n",
    "        self.features = torch.tensor(features.values, dtype=torch.float32)\n",
    "        self.targets = torch.tensor(targets.values, dtype=torch.float32)\n",
    "        self.weights = torch.tensor(weights.values, dtype=torch.float32) if weights is not None else None\n",
    "\n",
    "    def __len__(self):\n",
    "        return len(self.targets)\n",
    "\n",
    "    def __getitem__(self, idx):\n",
    "        x = self.features[idx]\n",
    "        y = self.targets[idx]\n",
    "        w = self.weights[idx] if self.weights is not None else 1.0\n",
    "        return x, y, w\n"
   ]
  },
  {
   "cell_type": "code",
   "execution_count": 14,
   "id": "9ffa634e",
   "metadata": {
    "execution": {
     "iopub.execute_input": "2024-11-24T18:24:50.555490Z",
     "iopub.status.busy": "2024-11-24T18:24:50.555249Z",
     "iopub.status.idle": "2024-11-24T18:24:51.337264Z",
     "shell.execute_reply": "2024-11-24T18:24:51.336391Z"
    },
    "papermill": {
     "duration": 0.789601,
     "end_time": "2024-11-24T18:24:51.339444",
     "exception": false,
     "start_time": "2024-11-24T18:24:50.549843",
     "status": "completed"
    },
    "tags": []
   },
   "outputs": [],
   "source": [
    "batch_size = 4096\n",
    "\n",
    "# Prepare training and validation datasets\n",
    "train_dataset = CustomDataset(X_train, y_train, weights_train)\n",
    "val_dataset = CustomDataset(X_val, y_val, weights_val)\n",
    "\n",
    "# Create DataLoaders\n",
    "train_loader = DataLoader(train_dataset, batch_size=batch_size, shuffle=True)\n",
    "val_loader = DataLoader(val_dataset, batch_size=batch_size, shuffle=False)\n"
   ]
  },
  {
   "cell_type": "code",
   "execution_count": 15,
   "id": "b51a5467",
   "metadata": {
    "execution": {
     "iopub.execute_input": "2024-11-24T18:24:51.351200Z",
     "iopub.status.busy": "2024-11-24T18:24:51.350855Z",
     "iopub.status.idle": "2024-11-24T18:24:51.437635Z",
     "shell.execute_reply": "2024-11-24T18:24:51.436670Z"
    },
    "papermill": {
     "duration": 0.094841,
     "end_time": "2024-11-24T18:24:51.439440",
     "exception": false,
     "start_time": "2024-11-24T18:24:51.344599",
     "status": "completed"
    },
    "tags": []
   },
   "outputs": [
    {
     "name": "stdout",
     "output_type": "stream",
     "text": [
      "True\n",
      "12.3\n"
     ]
    }
   ],
   "source": [
    "print(torch.cuda.is_available())  # Should return True if CUDA is available\n",
    "print(torch.version.cuda)"
   ]
  },
  {
   "cell_type": "code",
   "execution_count": 16,
   "id": "28c39c42",
   "metadata": {
    "execution": {
     "iopub.execute_input": "2024-11-24T18:24:51.451150Z",
     "iopub.status.busy": "2024-11-24T18:24:51.450541Z",
     "iopub.status.idle": "2024-11-24T18:24:51.456077Z",
     "shell.execute_reply": "2024-11-24T18:24:51.454963Z"
    },
    "papermill": {
     "duration": 0.013873,
     "end_time": "2024-11-24T18:24:51.458335",
     "exception": false,
     "start_time": "2024-11-24T18:24:51.444462",
     "status": "completed"
    },
    "tags": []
   },
   "outputs": [],
   "source": [
    "# Weighted R2 Scoring function\n",
    "def weighted_r2_score(y_true, y_pred, weights):\n",
    "    # Calculate the weighted residual sum of squares\n",
    "    residual_sum_of_squares = torch.sum(weights * (y_true - y_pred) ** 2)\n",
    "    \n",
    "    # Calculate the weighted total sum of squares\n",
    "    total_sum_of_squares = torch.sum(weights * y_true ** 2)\n",
    "    \n",
    "    # Calculate weighted R2 score\n",
    "    r2_score = 1 - (residual_sum_of_squares / total_sum_of_squares)\n",
    "    \n",
    "    return r2_score.item()  # Return as a scalar value\n"
   ]
  },
  {
   "cell_type": "code",
   "execution_count": 17,
   "id": "eefce128",
   "metadata": {
    "execution": {
     "iopub.execute_input": "2024-11-24T18:24:51.468660Z",
     "iopub.status.busy": "2024-11-24T18:24:51.468184Z",
     "iopub.status.idle": "2024-11-24T18:38:52.413929Z",
     "shell.execute_reply": "2024-11-24T18:38:52.413046Z"
    },
    "papermill": {
     "duration": 840.95824,
     "end_time": "2024-11-24T18:38:52.421090",
     "exception": false,
     "start_time": "2024-11-24T18:24:51.462850",
     "status": "completed"
    },
    "tags": []
   },
   "outputs": [
    {
     "name": "stdout",
     "output_type": "stream",
     "text": [
      "Epoch 1/10,Train Loss: 1.4263075461295414, Validation Loss: 1.4203657600012694, Validation R2 Score: 0.0032533160664818504\n",
      "Epoch 2/10,Train Loss: 1.4244766948708631, Validation Loss: 1.419048952514475, Validation R2 Score: 0.004189231178977273\n",
      "Epoch 3/10,Train Loss: 1.4232408193462402, Validation Loss: 1.4180670900778336, Validation R2 Score: 0.004842467199672352\n",
      "Epoch 4/10,Train Loss: 1.4216152494677912, Validation Loss: 1.4190498492934487, Validation R2 Score: 0.0041493979367342865\n",
      "Epoch 5/10,Train Loss: 1.4201408154050374, Validation Loss: 1.41554692550139, Validation R2 Score: 0.006601290811191905\n",
      "Epoch 6/10,Train Loss: 1.4191522683706708, Validation Loss: 1.41637492721731, Validation R2 Score: 0.00603095374324105\n",
      "Epoch 7/10,Train Loss: 1.4181928233210679, Validation Loss: 1.413201779127121, Validation R2 Score: 0.008258094841783697\n",
      "Epoch 8/10,Train Loss: 1.4175689440131594, Validation Loss: 1.4121838510036469, Validation R2 Score: 0.008959455381740223\n",
      "Epoch 9/10,Train Loss: 1.416859827486457, Validation Loss: 1.4114583600651134, Validation R2 Score: 0.009467267177321693\n",
      "Epoch 10/10,Train Loss: 1.4164454768813375, Validation Loss: 1.418373586914756, Validation R2 Score: 0.004592409729957581\n"
     ]
    }
   ],
   "source": [
    " # Initialize model, loss, and optimizer\n",
    "device = torch.device('cuda' if torch.cuda.is_available() else 'cpu')\n",
    "num_features = X_train.shape[1]\n",
    "unique_symbol_ids = unique_symbol_ids  # Update with actual unique symbol IDs if used\n",
    "model = ModelJane(num_features, unique_symbol_ids).to(device)\n",
    "\n",
    "criterion = nn.MSELoss(reduction='none')  # Use reduction='none' for weighted loss\n",
    "optimizer = optim.Adam(model.parameters(), lr=1e-3)\n",
    "\n",
    "# Initialize best validation loss\n",
    "best_val_loss = float('inf')\n",
    "\n",
    "# Training loop\n",
    "epochs = 10\n",
    "for epoch in range(epochs):\n",
    "    model.train()\n",
    "    train_loss = 0.0\n",
    "    for X_batch, y_batch, w_batch in train_loader:\n",
    "        X_batch, y_batch, w_batch = X_batch.to(device), y_batch.to(device), w_batch.to(device)\n",
    "\n",
    "        # Forward pass\n",
    "        predictions = model(X_batch, None).squeeze(1)  # Adjust based on model output\n",
    "        loss = criterion(predictions, y_batch)\n",
    "        weighted_loss = (loss * w_batch).mean()  # Weighted loss\n",
    "\n",
    "        # Backward pass\n",
    "        optimizer.zero_grad()\n",
    "        weighted_loss.backward()\n",
    "        optimizer.step()\n",
    "\n",
    "        train_loss += weighted_loss.item()\n",
    "\n",
    "    # print(f\"Epoch {epoch + 1}/{epochs}, \")\n",
    "\n",
    "    # Validation loop\n",
    "    model.eval()\n",
    "    val_loss = 0.0\n",
    "    val_r2_score = 0.0\n",
    "    with torch.no_grad():\n",
    "        for X_batch, y_batch, w_batch in val_loader:\n",
    "            X_batch, y_batch, w_batch = X_batch.to(device), y_batch.to(device), w_batch.to(device)\n",
    "\n",
    "            predictions = model(X_batch, None).squeeze(1)\n",
    "            loss = criterion(predictions, y_batch)\n",
    "            weighted_loss = (loss * w_batch).mean()\n",
    "\n",
    "            val_loss += weighted_loss.item()\n",
    "\n",
    "            # Compute the weighted R2 score for the current batch\n",
    "            r2 = weighted_r2_score(y_batch, predictions, w_batch)\n",
    "            val_r2_score += r2\n",
    "\n",
    "    # Average validation loss and R2 score across all batches\n",
    "    val_loss_avg = val_loss / len(val_loader)\n",
    "    val_r2_score_avg = val_r2_score / len(val_loader)\n",
    "\n",
    "    print(f\"Epoch {epoch + 1}/{epochs},Train Loss: {train_loss / len(train_loader)}, Validation Loss: {val_loss_avg}, Validation R2 Score: {val_r2_score_avg}\")\n",
    "\n",
    "    # Save the best model based on validation loss\n",
    "    if val_loss < best_val_loss:\n",
    "        best_val_loss = val_loss\n",
    "        # Save the model state_dict\n",
    "        torch.save(model.state_dict(), 'best_model.pth')\n",
    "        # print(f\"Best model saved at Epoch {epoch + 1} with Validation Loss: {val_loss_avg}\")\n"
   ]
  },
  {
   "cell_type": "code",
   "execution_count": 18,
   "id": "18a5492e",
   "metadata": {
    "execution": {
     "iopub.execute_input": "2024-11-24T18:38:52.432491Z",
     "iopub.status.busy": "2024-11-24T18:38:52.432075Z",
     "iopub.status.idle": "2024-11-24T18:38:52.442631Z",
     "shell.execute_reply": "2024-11-24T18:38:52.441822Z"
    },
    "papermill": {
     "duration": 0.018105,
     "end_time": "2024-11-24T18:38:52.444206",
     "exception": false,
     "start_time": "2024-11-24T18:38:52.426101",
     "status": "completed"
    },
    "tags": []
   },
   "outputs": [
    {
     "data": {
      "text/plain": [
       "ModelJane(\n",
       "  (fc1): Linear(in_features=79, out_features=512, bias=True)\n",
       "  (fc2): Linear(in_features=512, out_features=256, bias=True)\n",
       "  (fc3): Linear(in_features=256, out_features=128, bias=True)\n",
       "  (fc4): Linear(in_features=128, out_features=1, bias=True)\n",
       "  (relu): ReLU()\n",
       ")"
      ]
     },
     "execution_count": 18,
     "metadata": {},
     "output_type": "execute_result"
    }
   ],
   "source": [
    "model.load_state_dict(torch.load('best_model.pth', map_location=device, weights_only=True))\n",
    "model.eval()"
   ]
  },
  {
   "cell_type": "code",
   "execution_count": 19,
   "id": "2b2a85ca",
   "metadata": {
    "execution": {
     "iopub.execute_input": "2024-11-24T18:38:52.455755Z",
     "iopub.status.busy": "2024-11-24T18:38:52.455487Z",
     "iopub.status.idle": "2024-11-24T18:38:52.460833Z",
     "shell.execute_reply": "2024-11-24T18:38:52.459914Z"
    },
    "papermill": {
     "duration": 0.013126,
     "end_time": "2024-11-24T18:38:52.462458",
     "exception": false,
     "start_time": "2024-11-24T18:38:52.449332",
     "status": "completed"
    },
    "tags": []
   },
   "outputs": [],
   "source": [
    "def make_prediction(models, X, symbol_ids):\n",
    "    \"\"\"Generate predictions by averaging across all models.\"\"\"\n",
    "    y_preds = []\n",
    "    with torch.no_grad():\n",
    "        for model in models:\n",
    "            # Convert inputs to torch tensors\n",
    "            X_tensor = torch.tensor(X, dtype=torch.float32).to(device)\n",
    "            symbol_ids_tensor = torch.tensor(symbol_ids, dtype=torch.int).to(device)\n",
    "            # Predict and store results\n",
    "            y_pred = model(X_tensor, symbol_ids_tensor).squeeze(1)\n",
    "            y_preds.append(y_pred.cpu().numpy())\n",
    "    return np.mean(y_preds, axis=0)  # Ensemble by averaging predictions\n"
   ]
  },
  {
   "cell_type": "code",
   "execution_count": 20,
   "id": "ae79e4b0",
   "metadata": {
    "execution": {
     "iopub.execute_input": "2024-11-24T18:38:52.474089Z",
     "iopub.status.busy": "2024-11-24T18:38:52.473808Z",
     "iopub.status.idle": "2024-11-24T18:38:52.480313Z",
     "shell.execute_reply": "2024-11-24T18:38:52.479617Z"
    },
    "papermill": {
     "duration": 0.014189,
     "end_time": "2024-11-24T18:38:52.481905",
     "exception": false,
     "start_time": "2024-11-24T18:38:52.467716",
     "status": "completed"
    },
    "tags": []
   },
   "outputs": [],
   "source": [
    "lags_ : pl.DataFrame | None = None\n",
    "\n",
    "\n",
    "def predict(test: pl.DataFrame, lags: pl.DataFrame | None) -> pl.DataFrame | pd.DataFrame:\n",
    "    \"\"\"Make a prediction.\"\"\"\n",
    "    # All the responders from the previous day are passed in at time_id == 0. We save them in a global variable for access at every time_id.\n",
    "    # Use them as extra features, if you like.\n",
    "    global lags_\n",
    "    if lags is not None:\n",
    "        lags_ = lags\n",
    "\n",
    "    X_test = test.select(features.columns).to_numpy()\n",
    "    col_means = features.mean().values \n",
    "    X_test = np.where(np.isnan(X_test), col_means, X_test)  # Replace NaNs with mean values\n",
    "    X_test = (X_test - X_test.min()) / (X_test.max() - X_test.min())  # Normalize features\n",
    "    X_test = np.nan_to_num(X_test, nan=0)  # Ensure no NaNs remain\n",
    "\n",
    "    # Extract symbol IDs\n",
    "    symbol_ids = test.select([\"symbol_id\"]).to_numpy()\n",
    "\n",
    "    # Make predictions\n",
    "    y_pred = make_prediction([model], X_test, symbol_ids)\n",
    "\n",
    "    # Prepare the output DataFrame\n",
    "    predictions = test.select('row_id').with_columns(\n",
    "        pl.Series(\"responder_6\", y_pred)\n",
    "    )\n",
    "\n",
    "    # Ensure output format is correct\n",
    "    assert isinstance(predictions, pl.DataFrame)\n",
    "    assert predictions.columns == ['row_id', 'responder_6']\n",
    "    assert len(predictions) == len(test)\n",
    "\n",
    "    return predictions"
   ]
  },
  {
   "cell_type": "code",
   "execution_count": 21,
   "id": "eb6cc06c",
   "metadata": {
    "execution": {
     "iopub.execute_input": "2024-11-24T18:38:52.493527Z",
     "iopub.status.busy": "2024-11-24T18:38:52.493294Z",
     "iopub.status.idle": "2024-11-24T18:38:53.259997Z",
     "shell.execute_reply": "2024-11-24T18:38:53.258993Z"
    },
    "papermill": {
     "duration": 0.775121,
     "end_time": "2024-11-24T18:38:53.262173",
     "exception": false,
     "start_time": "2024-11-24T18:38:52.487052",
     "status": "completed"
    },
    "tags": []
   },
   "outputs": [
    {
     "name": "stderr",
     "output_type": "stream",
     "text": [
      "/kaggle/input/jane-street-real-time-market-data-forecasting/kaggle_evaluation/core/templates.py:128: RuntimeWarning: 931 seconds elapsed before server startup.\n",
      "                This exceeds the startup time limit of 900 seconds that the gateway will enforce\n",
      "                during the rerun on the hidden test set. Start the server before performing any time consuming steps.\n",
      "  warnings.warn(\n"
     ]
    }
   ],
   "source": [
    "inference_server = kaggle_evaluation.jane_street_inference_server.JSInferenceServer(predict)\n",
    "\n",
    "if os.getenv('KAGGLE_IS_COMPETITION_RERUN'):\n",
    "    inference_server.serve()\n",
    "else:\n",
    "    inference_server.run_local_gateway(\n",
    "        (\n",
    "            '/kaggle/input/jane-street-real-time-market-data-forecasting/test.parquet',\n",
    "            '/kaggle/input/jane-street-real-time-market-data-forecasting/lags.parquet',\n",
    "        )\n",
    "    )"
   ]
  },
  {
   "cell_type": "code",
   "execution_count": null,
   "id": "3bf54d70",
   "metadata": {
    "papermill": {
     "duration": 0.005465,
     "end_time": "2024-11-24T18:38:53.273495",
     "exception": false,
     "start_time": "2024-11-24T18:38:53.268030",
     "status": "completed"
    },
    "tags": []
   },
   "outputs": [],
   "source": []
  }
 ],
 "metadata": {
  "kaggle": {
   "accelerator": "nvidiaTeslaT4",
   "dataSources": [
    {
     "databundleVersionId": 9871156,
     "sourceId": 84493,
     "sourceType": "competition"
    }
   ],
   "dockerImageVersionId": 30786,
   "isGpuEnabled": true,
   "isInternetEnabled": false,
   "language": "python",
   "sourceType": "notebook"
  },
  "kernelspec": {
   "display_name": "Python 3",
   "language": "python",
   "name": "python3"
  },
  "language_info": {
   "codemirror_mode": {
    "name": "ipython",
    "version": 3
   },
   "file_extension": ".py",
   "mimetype": "text/x-python",
   "name": "python",
   "nbconvert_exporter": "python",
   "pygments_lexer": "ipython3",
   "version": "3.10.14"
  },
  "papermill": {
   "default_parameters": {},
   "duration": 938.00453,
   "end_time": "2024-11-24T18:38:55.790620",
   "environment_variables": {},
   "exception": null,
   "input_path": "__notebook__.ipynb",
   "output_path": "__notebook__.ipynb",
   "parameters": {},
   "start_time": "2024-11-24T18:23:17.786090",
   "version": "2.6.0"
  }
 },
 "nbformat": 4,
 "nbformat_minor": 5
}
